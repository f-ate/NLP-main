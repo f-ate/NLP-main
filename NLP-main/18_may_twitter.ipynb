{
 "cells": [
  {
   "cell_type": "code",
   "execution_count": null,
   "id": "11e0f501",
   "metadata": {},
   "outputs": [],
   "source": [
    "!pip install tweepy"
   ]
  },
  {
   "cell_type": "code",
   "execution_count": null,
   "id": "9aa1c7ac",
   "metadata": {},
   "outputs": [],
   "source": [
    "import tweepy\n",
    "import re\n",
    "import pickle"
   ]
  },
  {
   "cell_type": "code",
   "execution_count": null,
   "id": "146edadb",
   "metadata": {},
   "outputs": [],
   "source": [
    "from tweepy import OAuthHandler"
   ]
  },
  {
   "cell_type": "code",
   "execution_count": null,
   "id": "46285024",
   "metadata": {},
   "outputs": [],
   "source": [
    "consumer_key = 'JlPIu2FnPdxVVaTJ7zX0snlaH'\n",
    "consumer_secret = 'AFFflSXwr7tjGzTq9kWBzBXB9Uj7mNDPTzXKEsCw8Qq9QvBD12'\n",
    "access_token = '37164817-SoSJtiOFEM72qj46KT9WVDWAMVYmwmcFMNQ9vZviJ'\n",
    "access_secret = '9a2gF4310KsPaPhheuAHwkT6cuGUCOEp2IWKMWVjgjqsy'"
   ]
  },
  {
   "cell_type": "code",
   "execution_count": null,
   "id": "56353066",
   "metadata": {},
   "outputs": [],
   "source": [
    "auth = OAuthHandler(consumer_key,consumer_secret)\n",
    "auth.set_access_token(access_token,access_secret)"
   ]
  },
  {
   "cell_type": "code",
   "execution_count": null,
   "id": "0d6b04cc",
   "metadata": {},
   "outputs": [],
   "source": [
    "args = ['Parag Agrawal']"
   ]
  },
  {
   "cell_type": "code",
   "execution_count": null,
   "id": "52d626c5",
   "metadata": {},
   "outputs": [],
   "source": [
    "api = tweepy.API(auth,timeout=10)"
   ]
  },
  {
   "cell_type": "code",
   "execution_count": null,
   "id": "02a7dd08",
   "metadata": {},
   "outputs": [],
   "source": [
    "list_tweets = []\n",
    "query = args[0]"
   ]
  },
  {
   "cell_type": "code",
   "execution_count": null,
   "id": "527df88b",
   "metadata": {},
   "outputs": [],
   "source": [
    "query"
   ]
  },
  {
   "cell_type": "code",
   "execution_count": null,
   "id": "c5b8cd04",
   "metadata": {},
   "outputs": [],
   "source": [
    "if len(args) == 1:\n",
    "    for status in tweepy.Cursor(api.search_tweets,q=query+\" -filter:retweets\",lang='en',result_type='recent').items(1000):\n",
    "        list_tweets.append(status.text)"
   ]
  },
  {
   "cell_type": "code",
   "execution_count": null,
   "id": "5bdaabf0",
   "metadata": {},
   "outputs": [],
   "source": [
    "status"
   ]
  },
  {
   "cell_type": "code",
   "execution_count": null,
   "id": "7aeb5672",
   "metadata": {},
   "outputs": [],
   "source": [
    "list_tweets"
   ]
  },
  {
   "cell_type": "code",
   "execution_count": null,
   "id": "9909d11a",
   "metadata": {},
   "outputs": [],
   "source": [
    "with open('tfidfmodel.pickle','rb') as f:\n",
    "    vectorizer = pickle.load(f)"
   ]
  },
  {
   "cell_type": "code",
   "execution_count": null,
   "id": "dfdca18e",
   "metadata": {},
   "outputs": [],
   "source": [
    "with open('classifier.pickle','rb') as f:\n",
    "    clf = pickle.load(f)"
   ]
  },
  {
   "cell_type": "code",
   "execution_count": null,
   "id": "4fc2f6fd",
   "metadata": {},
   "outputs": [],
   "source": [
    "total_pos = 0\n",
    "total_neg = 0\n",
    "for tweet in list_tweets:\n",
    "    tweet = re.sub(r'^https://t.co/[a-zA-Z0-9]*\\s', ' ',tweet)\n",
    "    tweet = re.sub(r'\\s+https://t.co/[a-zA-Z0-9]*\\s', ' ',tweet)\n",
    "    tweet = re.sub(r'https://t.co/[a-zA-Z0-9]*$', ' ',tweet)\n",
    "    tweet = tweet.lower()\n",
    "    tweet = re.sub(r\"that's\", \"that is\",tweet)\n",
    "    tweet = re.sub(r\"what's\", \"what is\",tweet)\n",
    "    tweet = re.sub(r\"where's\", \"where is\",tweet)\n",
    "    tweet = re.sub(r\"it's\", \"it is\",tweet)\n",
    "    tweet = re.sub(r\"who's\", \"who is\",tweet)\n",
    "    tweet = re.sub(r\"i'm\", \"i am\",tweet)\n",
    "    tweet = re.sub(r\"she's\", \"she is\",tweet)\n",
    "    tweet = re.sub(r\"he's\", \"he is\",tweet)\n",
    "    tweet = re.sub(r\"they're\", \"they are\",tweet)\n",
    "    tweet = re.sub(r\"who're\", \"who are\",tweet)\n",
    "    tweet = re.sub(r\"ain't\", \"am not\",tweet)\n",
    "    tweet = re.sub(r\"wouldn't\", \"would not\",tweet)\n",
    "    tweet = re.sub(r\"shouldn't\", \"should not\",tweet)\n",
    "    tweet = re.sub(r\"can't\", \"can not\",tweet)\n",
    "    tweet = re.sub(r\"couldn't\", \"could not\",tweet)\n",
    "    tweet = re.sub(r\"wouldn't\", \"would not\",tweet)\n",
    "    tweet = re.sub(r\"\\d\", \" \",tweet)\n",
    "    tweet = re.sub(r\"\\s+[a-z]\\s+\", \" \",tweet)\n",
    "    tweet = re.sub(r\"\\s+[a-z]$\", \" \",tweet)\n",
    "    tweet = re.sub(r\"^[a-z]\\s+\", \" \",tweet)\n",
    "    tweet = re.sub(r\"[^a-z\\.]\", \" \",tweet)\n",
    "    tweet = re.sub(r\"\\s+\", \" \",tweet)\n",
    "    \n",
    "    \n",
    "    sent = clf.predict(vectorizer.transform([tweet]).toarray())\n",
    "    print(tweet, \":\" ,sent)\n",
    "    \n",
    "    if sent[0] == 1:\n",
    "        total_pos += 1\n",
    "    else:\n",
    "        total_neg +=1"
   ]
  },
  {
   "cell_type": "code",
   "execution_count": null,
   "id": "9f665b83",
   "metadata": {},
   "outputs": [],
   "source": [
    "total_pos"
   ]
  },
  {
   "cell_type": "code",
   "execution_count": null,
   "id": "100cfa57",
   "metadata": {},
   "outputs": [],
   "source": [
    "total_neg"
   ]
  },
  {
   "cell_type": "code",
   "execution_count": null,
   "id": "f7b26f87",
   "metadata": {},
   "outputs": [],
   "source": []
  }
 ],
 "metadata": {
  "kernelspec": {
   "display_name": "Python 3",
   "language": "python",
   "name": "python3"
  },
  "language_info": {
   "codemirror_mode": {
    "name": "ipython",
    "version": 3
   },
   "file_extension": ".py",
   "mimetype": "text/x-python",
   "name": "python",
   "nbconvert_exporter": "python",
   "pygments_lexer": "ipython3",
   "version": "3.6.13"
  }
 },
 "nbformat": 4,
 "nbformat_minor": 5
}
