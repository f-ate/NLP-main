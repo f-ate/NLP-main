{
 "cells": [
  {
   "cell_type": "code",
   "execution_count": 1,
   "id": "ace796a4",
   "metadata": {},
   "outputs": [],
   "source": [
    "import re"
   ]
  },
  {
   "cell_type": "code",
   "execution_count": 2,
   "id": "c1d1f94c",
   "metadata": {},
   "outputs": [],
   "source": [
    "sentence = 'I was born in the year 1990'"
   ]
  },
  {
   "cell_type": "code",
   "execution_count": 3,
   "id": "71115d37",
   "metadata": {},
   "outputs": [
    {
     "data": {
      "text/plain": [
       "'I was born in the year 1990'"
      ]
     },
     "execution_count": 3,
     "metadata": {},
     "output_type": "execute_result"
    }
   ],
   "source": [
    "sentence"
   ]
  },
  {
   "cell_type": "code",
   "execution_count": 4,
   "id": "50c02dd6",
   "metadata": {},
   "outputs": [
    {
     "data": {
      "text/plain": [
       "'I was born in the year ####'"
      ]
     },
     "execution_count": 4,
     "metadata": {},
     "output_type": "execute_result"
    }
   ],
   "source": [
    "re.sub(r'\\d','#',sentence)"
   ]
  },
  {
   "cell_type": "code",
   "execution_count": 5,
   "id": "512068af",
   "metadata": {},
   "outputs": [
    {
     "data": {
      "text/plain": [
       "'I was born in the year '"
      ]
     },
     "execution_count": 5,
     "metadata": {},
     "output_type": "execute_result"
    }
   ],
   "source": [
    "re.sub(r'\\d','',sentence)"
   ]
  },
  {
   "cell_type": "code",
   "execution_count": 6,
   "id": "08707782",
   "metadata": {},
   "outputs": [
    {
     "data": {
      "text/plain": [
       "'#######################1990'"
      ]
     },
     "execution_count": 6,
     "metadata": {},
     "output_type": "execute_result"
    }
   ],
   "source": [
    "re.sub(r'\\D','#',sentence)"
   ]
  },
  {
   "cell_type": "code",
   "execution_count": 7,
   "id": "3c4839ec",
   "metadata": {},
   "outputs": [
    {
     "data": {
      "text/plain": [
       "'I was born in the year ###0'"
      ]
     },
     "execution_count": 7,
     "metadata": {},
     "output_type": "execute_result"
    }
   ],
   "source": [
    "re.sub(r'[1-9]','#',sentence)"
   ]
  },
  {
   "cell_type": "code",
   "execution_count": 8,
   "id": "b0f6e760",
   "metadata": {},
   "outputs": [
    {
     "data": {
      "text/plain": [
       "'I was born in the year ####'"
      ]
     },
     "execution_count": 8,
     "metadata": {},
     "output_type": "execute_result"
    }
   ],
   "source": [
    "re.sub(r'[0-9]','#',sentence)"
   ]
  },
  {
   "cell_type": "code",
   "execution_count": 9,
   "id": "000daaea",
   "metadata": {},
   "outputs": [
    {
     "data": {
      "text/plain": [
       "'#######################1990'"
      ]
     },
     "execution_count": 9,
     "metadata": {},
     "output_type": "execute_result"
    }
   ],
   "source": [
    "re.sub(r'[^0-9]','#',sentence)"
   ]
  },
  {
   "cell_type": "code",
   "execution_count": 10,
   "id": "03552b9c",
   "metadata": {},
   "outputs": [
    {
     "data": {
      "text/plain": [
       "<_sre.SRE_Match object; span=(0, 27), match='I was born in the year 1990'>"
      ]
     },
     "execution_count": 10,
     "metadata": {},
     "output_type": "execute_result"
    }
   ],
   "source": [
    "re.match(r'.*',sentence)"
   ]
  },
  {
   "cell_type": "code",
   "execution_count": 11,
   "id": "b2255ea3",
   "metadata": {},
   "outputs": [],
   "source": [
    "sentence1 = ''"
   ]
  },
  {
   "cell_type": "code",
   "execution_count": 12,
   "id": "5ab41b18",
   "metadata": {},
   "outputs": [
    {
     "data": {
      "text/plain": [
       "''"
      ]
     },
     "execution_count": 12,
     "metadata": {},
     "output_type": "execute_result"
    }
   ],
   "source": [
    "sentence1"
   ]
  },
  {
   "cell_type": "code",
   "execution_count": 13,
   "id": "ae7dc349",
   "metadata": {},
   "outputs": [
    {
     "data": {
      "text/plain": [
       "<_sre.SRE_Match object; span=(0, 0), match=''>"
      ]
     },
     "execution_count": 13,
     "metadata": {},
     "output_type": "execute_result"
    }
   ],
   "source": [
    "re.match(r'.*',sentence1)"
   ]
  },
  {
   "cell_type": "code",
   "execution_count": 14,
   "id": "bc3ecceb",
   "metadata": {},
   "outputs": [],
   "source": [
    "re.match(r'.+',sentence1)"
   ]
  },
  {
   "cell_type": "code",
   "execution_count": 15,
   "id": "22da7496",
   "metadata": {},
   "outputs": [
    {
     "data": {
      "text/plain": [
       "<_sre.SRE_Match object; span=(0, 27), match='I was born in the year 1990'>"
      ]
     },
     "execution_count": 15,
     "metadata": {},
     "output_type": "execute_result"
    }
   ],
   "source": [
    "re.match(r'.+',sentence)"
   ]
  },
  {
   "cell_type": "code",
   "execution_count": 16,
   "id": "ecef59a6",
   "metadata": {},
   "outputs": [],
   "source": [
    "re.match(r'^i',sentence)"
   ]
  },
  {
   "cell_type": "code",
   "execution_count": 17,
   "id": "02de1310",
   "metadata": {},
   "outputs": [
    {
     "data": {
      "text/plain": [
       "<_sre.SRE_Match object; span=(0, 1), match='I'>"
      ]
     },
     "execution_count": 17,
     "metadata": {},
     "output_type": "execute_result"
    }
   ],
   "source": [
    "re.match(r'^I',sentence)"
   ]
  },
  {
   "cell_type": "code",
   "execution_count": 19,
   "id": "be253b51",
   "metadata": {},
   "outputs": [
    {
     "data": {
      "text/plain": [
       "<_sre.SRE_Match object; span=(23, 27), match='1990'>"
      ]
     },
     "execution_count": 19,
     "metadata": {},
     "output_type": "execute_result"
    }
   ],
   "source": [
    "re.search(r'1990$',sentence)"
   ]
  },
  {
   "cell_type": "code",
   "execution_count": 20,
   "id": "d57c173c",
   "metadata": {},
   "outputs": [],
   "source": [
    "re.search(r'2022$',sentence)"
   ]
  },
  {
   "cell_type": "code",
   "execution_count": 21,
   "id": "25e700f8",
   "metadata": {},
   "outputs": [
    {
     "data": {
      "text/plain": [
       "'I0was0born0in0the0year01990'"
      ]
     },
     "execution_count": 21,
     "metadata": {},
     "output_type": "execute_result"
    }
   ],
   "source": [
    "re.sub(r'\\s','0',sentence)"
   ]
  },
  {
   "cell_type": "code",
   "execution_count": 22,
   "id": "fd124030",
   "metadata": {},
   "outputs": [
    {
     "data": {
      "text/plain": [
       "'0 000 0000 00 000 0000 0000'"
      ]
     },
     "execution_count": 22,
     "metadata": {},
     "output_type": "execute_result"
    }
   ],
   "source": [
    "re.sub(r'\\S','0',sentence)"
   ]
  },
  {
   "cell_type": "code",
   "execution_count": 23,
   "id": "2bfe47b4",
   "metadata": {},
   "outputs": [
    {
     "data": {
      "text/plain": [
       "'I w0s 0orn in the ye0r 1990'"
      ]
     },
     "execution_count": 23,
     "metadata": {},
     "output_type": "execute_result"
    }
   ],
   "source": [
    "re.sub(r'[abd]','0',sentence)"
   ]
  },
  {
   "cell_type": "code",
   "execution_count": 24,
   "id": "400f7078",
   "metadata": {},
   "outputs": [
    {
     "data": {
      "text/plain": [
       "'I 000 0000 00 000 0000 1990'"
      ]
     },
     "execution_count": 24,
     "metadata": {},
     "output_type": "execute_result"
    }
   ],
   "source": [
    "re.sub(r'[a-z]','0',sentence)"
   ]
  },
  {
   "cell_type": "code",
   "execution_count": 25,
   "id": "0a8af49b",
   "metadata": {},
   "outputs": [
    {
     "data": {
      "text/plain": [
       "'0 000 0000 00 000 0000 1990'"
      ]
     },
     "execution_count": 25,
     "metadata": {},
     "output_type": "execute_result"
    }
   ],
   "source": [
    "re.sub(r'[a-zA-Z]','0',sentence)"
   ]
  },
  {
   "cell_type": "code",
   "execution_count": 26,
   "id": "f0fe70a0",
   "metadata": {},
   "outputs": [
    {
     "data": {
      "text/plain": [
       "'0 000 0000 00 000 0000 0000'"
      ]
     },
     "execution_count": 26,
     "metadata": {},
     "output_type": "execute_result"
    }
   ],
   "source": [
    "re.sub(r'[a-zA-Z0-9]','0',sentence)"
   ]
  },
  {
   "cell_type": "code",
   "execution_count": 27,
   "id": "c9fdecb9",
   "metadata": {},
   "outputs": [],
   "source": [
    "sentence2 = 'I was born % in the @ year 1990 !'"
   ]
  },
  {
   "cell_type": "code",
   "execution_count": 28,
   "id": "e0726a85",
   "metadata": {},
   "outputs": [
    {
     "data": {
      "text/plain": [
       "'I was born % in the @ year 1990 !'"
      ]
     },
     "execution_count": 28,
     "metadata": {},
     "output_type": "execute_result"
    }
   ],
   "source": [
    "sentence2"
   ]
  },
  {
   "cell_type": "code",
   "execution_count": 31,
   "id": "c99f6cfc",
   "metadata": {},
   "outputs": [
    {
     "data": {
      "text/plain": [
       "'# ### #### % ## ### @ #### #### !'"
      ]
     },
     "execution_count": 31,
     "metadata": {},
     "output_type": "execute_result"
    }
   ],
   "source": [
    "re.sub(r'\\w','#',sentence2)"
   ]
  },
  {
   "cell_type": "code",
   "execution_count": 32,
   "id": "d955ce1b",
   "metadata": {},
   "outputs": [
    {
     "data": {
      "text/plain": [
       "'I#was#born###in#the###year#1990##'"
      ]
     },
     "execution_count": 32,
     "metadata": {},
     "output_type": "execute_result"
    }
   ],
   "source": [
    "re.sub(r'\\W','#',sentence2)"
   ]
  },
  {
   "cell_type": "code",
   "execution_count": 33,
   "id": "3ff95906",
   "metadata": {},
   "outputs": [],
   "source": [
    "sentence3 = 'I was ! born % in the @ year 1990.'"
   ]
  },
  {
   "cell_type": "code",
   "execution_count": 35,
   "id": "bc3c7aac",
   "metadata": {},
   "outputs": [
    {
     "data": {
      "text/plain": [
       "'I#was###born###in#the###year#1990#'"
      ]
     },
     "execution_count": 35,
     "metadata": {},
     "output_type": "execute_result"
    }
   ],
   "source": [
    "re.sub(r'\\W','#',sentence3)"
   ]
  },
  {
   "cell_type": "code",
   "execution_count": 36,
   "id": "29234125",
   "metadata": {},
   "outputs": [
    {
     "data": {
      "text/plain": [
       "'I was # born # in the # year 1990.'"
      ]
     },
     "execution_count": 36,
     "metadata": {},
     "output_type": "execute_result"
    }
   ],
   "source": [
    "re.sub(r'[!%@]','#',sentence3)"
   ]
  },
  {
   "cell_type": "code",
   "execution_count": 37,
   "id": "bee4d348",
   "metadata": {},
   "outputs": [],
   "source": [
    "text1 = \"welcome to year 2022\"\n",
    "text2 = \"just ~% +++++ --- arrived at @Nagpur for #Fun\"\n",
    "text3 = \"I     Love       India\""
   ]
  },
  {
   "cell_type": "code",
   "execution_count": 38,
   "id": "f5004c0d",
   "metadata": {},
   "outputs": [],
   "source": [
    "txt1 = re.sub(r'\\d','',text1)"
   ]
  },
  {
   "cell_type": "code",
   "execution_count": 39,
   "id": "f46dcc35",
   "metadata": {},
   "outputs": [
    {
     "data": {
      "text/plain": [
       "'welcome to year '"
      ]
     },
     "execution_count": 39,
     "metadata": {},
     "output_type": "execute_result"
    }
   ],
   "source": [
    "txt1"
   ]
  },
  {
   "cell_type": "code",
   "execution_count": 40,
   "id": "8b16b8eb",
   "metadata": {},
   "outputs": [],
   "source": [
    "txt1 = re.sub(r'\\s$','',txt1)"
   ]
  },
  {
   "cell_type": "code",
   "execution_count": 41,
   "id": "8663e160",
   "metadata": {},
   "outputs": [
    {
     "data": {
      "text/plain": [
       "'welcome to year'"
      ]
     },
     "execution_count": 41,
     "metadata": {},
     "output_type": "execute_result"
    }
   ],
   "source": [
    "txt1"
   ]
  },
  {
   "cell_type": "code",
   "execution_count": 42,
   "id": "90fcefd6",
   "metadata": {},
   "outputs": [],
   "source": [
    "txt2 = re.sub(r'[~%\\+\\-@#]',' ',text2)"
   ]
  },
  {
   "cell_type": "code",
   "execution_count": 43,
   "id": "b5a16122",
   "metadata": {},
   "outputs": [
    {
     "data": {
      "text/plain": [
       "'just              arrived at  Nagpur for  Fun'"
      ]
     },
     "execution_count": 43,
     "metadata": {},
     "output_type": "execute_result"
    }
   ],
   "source": [
    "txt2"
   ]
  },
  {
   "cell_type": "code",
   "execution_count": 44,
   "id": "f34f5701",
   "metadata": {},
   "outputs": [],
   "source": [
    "txt2 = re.sub(r'\\s+',' ',txt2)"
   ]
  },
  {
   "cell_type": "code",
   "execution_count": 45,
   "id": "9f4da65e",
   "metadata": {},
   "outputs": [
    {
     "data": {
      "text/plain": [
       "'just arrived at Nagpur for Fun'"
      ]
     },
     "execution_count": 45,
     "metadata": {},
     "output_type": "execute_result"
    }
   ],
   "source": [
    "txt2"
   ]
  },
  {
   "cell_type": "code",
   "execution_count": 46,
   "id": "e7ad6d3e",
   "metadata": {},
   "outputs": [],
   "source": [
    "txt3 = re.sub(r'\\s+',' ',text3)"
   ]
  },
  {
   "cell_type": "code",
   "execution_count": 47,
   "id": "a5473564",
   "metadata": {},
   "outputs": [
    {
     "data": {
      "text/plain": [
       "'I Love India'"
      ]
     },
     "execution_count": 47,
     "metadata": {},
     "output_type": "execute_result"
    }
   ],
   "source": [
    "txt3"
   ]
  },
  {
   "cell_type": "code",
   "execution_count": null,
   "id": "eb35aad0",
   "metadata": {},
   "outputs": [],
   "source": []
  }
 ],
 "metadata": {
  "kernelspec": {
   "display_name": "Python 3",
   "language": "python",
   "name": "python3"
  },
  "language_info": {
   "codemirror_mode": {
    "name": "ipython",
    "version": 3
   },
   "file_extension": ".py",
   "mimetype": "text/x-python",
   "name": "python",
   "nbconvert_exporter": "python",
   "pygments_lexer": "ipython3",
   "version": "3.6.13"
  }
 },
 "nbformat": 4,
 "nbformat_minor": 5
}
