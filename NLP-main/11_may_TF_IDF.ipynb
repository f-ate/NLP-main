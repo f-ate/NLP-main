{
 "cells": [
  {
   "cell_type": "code",
   "execution_count": 1,
   "id": "9441ecb6",
   "metadata": {},
   "outputs": [],
   "source": [
    "paragraph = \"\"\"Thank you all so very much. Thank you to the Academy. Thank you to all of you in this room. I have to congratulate the other incredible nominees this year. The Revenant was the product of the tireless efforts of an unbelievable cast and crew. First off, to my brother in this endeavor, Mr. Tom Hardy. Tom, your talent on screen can only be surpassed by your friendship off screen … thank you for creating a transcendent cinematic experience. Thank you to everybody at Fox and New Regency … my entire team. I have to thank everyone from the very onset of my career … To my parents; none of this would be possible without you. And to my friends, I love you dearly; you know who you are.\"\"\""
   ]
  },
  {
   "cell_type": "code",
   "execution_count": 2,
   "id": "cdf26c3e",
   "metadata": {},
   "outputs": [
    {
     "data": {
      "text/plain": [
       "'Thank you all so very much. Thank you to the Academy. Thank you to all of you in this room. I have to congratulate the other incredible nominees this year. The Revenant was the product of the tireless efforts of an unbelievable cast and crew. First off, to my brother in this endeavor, Mr. Tom Hardy. Tom, your talent on screen can only be surpassed by your friendship off screen … thank you for creating a transcendent cinematic experience. Thank you to everybody at Fox and New Regency … my entire team. I have to thank everyone from the very onset of my career … To my parents; none of this would be possible without you. And to my friends, I love you dearly; you know who you are.'"
      ]
     },
     "execution_count": 2,
     "metadata": {},
     "output_type": "execute_result"
    }
   ],
   "source": [
    "paragraph"
   ]
  },
  {
   "cell_type": "code",
   "execution_count": 3,
   "id": "79d918e2",
   "metadata": {},
   "outputs": [],
   "source": [
    "import re\n",
    "import nltk"
   ]
  },
  {
   "cell_type": "code",
   "execution_count": 4,
   "id": "c04ce70f",
   "metadata": {},
   "outputs": [],
   "source": [
    "import numpy as np\n",
    "dataset = nltk.sent_tokenize(paragraph)"
   ]
  },
  {
   "cell_type": "code",
   "execution_count": 5,
   "id": "d145a034",
   "metadata": {},
   "outputs": [
    {
     "data": {
      "text/plain": [
       "['Thank you all so very much.',\n",
       " 'Thank you to the Academy.',\n",
       " 'Thank you to all of you in this room.',\n",
       " 'I have to congratulate the other incredible nominees this year.',\n",
       " 'The Revenant was the product of the tireless efforts of an unbelievable cast and crew.',\n",
       " 'First off, to my brother in this endeavor, Mr. Tom Hardy.',\n",
       " 'Tom, your talent on screen can only be surpassed by your friendship off screen … thank you for creating a transcendent cinematic experience.',\n",
       " 'Thank you to everybody at Fox and New Regency … my entire team.',\n",
       " 'I have to thank everyone from the very onset of my career … To my parents; none of this would be possible without you.',\n",
       " 'And to my friends, I love you dearly; you know who you are.']"
      ]
     },
     "execution_count": 5,
     "metadata": {},
     "output_type": "execute_result"
    }
   ],
   "source": [
    "dataset"
   ]
  },
  {
   "cell_type": "code",
   "execution_count": 6,
   "id": "e17f14af",
   "metadata": {},
   "outputs": [
    {
     "data": {
      "text/plain": [
       "10"
      ]
     },
     "execution_count": 6,
     "metadata": {},
     "output_type": "execute_result"
    }
   ],
   "source": [
    "len(dataset)"
   ]
  },
  {
   "cell_type": "code",
   "execution_count": 7,
   "id": "f20c867b",
   "metadata": {},
   "outputs": [],
   "source": [
    "for i in range(len(dataset)):\n",
    "    dataset[i] = dataset[i].lower()\n",
    "    dataset[i] = re.sub(r'\\W',' ',dataset[i])\n",
    "    dataset[i] = re.sub(r'\\s+',' ',dataset[i])\n",
    "    dataset[i] = re.sub(r'\\s+$','',dataset[i])"
   ]
  },
  {
   "cell_type": "code",
   "execution_count": 8,
   "id": "2a7c310b",
   "metadata": {},
   "outputs": [
    {
     "data": {
      "text/plain": [
       "['thank you all so very much',\n",
       " 'thank you to the academy',\n",
       " 'thank you to all of you in this room',\n",
       " 'i have to congratulate the other incredible nominees this year',\n",
       " 'the revenant was the product of the tireless efforts of an unbelievable cast and crew',\n",
       " 'first off to my brother in this endeavor mr tom hardy',\n",
       " 'tom your talent on screen can only be surpassed by your friendship off screen thank you for creating a transcendent cinematic experience',\n",
       " 'thank you to everybody at fox and new regency my entire team',\n",
       " 'i have to thank everyone from the very onset of my career to my parents none of this would be possible without you',\n",
       " 'and to my friends i love you dearly you know who you are']"
      ]
     },
     "execution_count": 8,
     "metadata": {},
     "output_type": "execute_result"
    }
   ],
   "source": [
    "dataset"
   ]
  },
  {
   "cell_type": "code",
   "execution_count": 9,
   "id": "f58a967b",
   "metadata": {},
   "outputs": [],
   "source": [
    "word2count = {}\n",
    "for data in dataset:\n",
    "    words = nltk.word_tokenize(data)\n",
    "    for word in words:\n",
    "        if word not in word2count.keys():\n",
    "            word2count[word] = 1\n",
    "        else:\n",
    "            word2count[word] += 1"
   ]
  },
  {
   "cell_type": "code",
   "execution_count": 10,
   "id": "8afb0ebe",
   "metadata": {},
   "outputs": [
    {
     "data": {
      "text/plain": [
       "{'thank': 6,\n",
       " 'you': 10,\n",
       " 'all': 2,\n",
       " 'so': 1,\n",
       " 'very': 2,\n",
       " 'much': 1,\n",
       " 'to': 8,\n",
       " 'the': 6,\n",
       " 'academy': 1,\n",
       " 'of': 5,\n",
       " 'in': 2,\n",
       " 'this': 4,\n",
       " 'room': 1,\n",
       " 'i': 3,\n",
       " 'have': 2,\n",
       " 'congratulate': 1,\n",
       " 'other': 1,\n",
       " 'incredible': 1,\n",
       " 'nominees': 1,\n",
       " 'year': 1,\n",
       " 'revenant': 1,\n",
       " 'was': 1,\n",
       " 'product': 1,\n",
       " 'tireless': 1,\n",
       " 'efforts': 1,\n",
       " 'an': 1,\n",
       " 'unbelievable': 1,\n",
       " 'cast': 1,\n",
       " 'and': 3,\n",
       " 'crew': 1,\n",
       " 'first': 1,\n",
       " 'off': 2,\n",
       " 'my': 5,\n",
       " 'brother': 1,\n",
       " 'endeavor': 1,\n",
       " 'mr': 1,\n",
       " 'tom': 2,\n",
       " 'hardy': 1,\n",
       " 'your': 2,\n",
       " 'talent': 1,\n",
       " 'on': 1,\n",
       " 'screen': 2,\n",
       " 'can': 1,\n",
       " 'only': 1,\n",
       " 'be': 2,\n",
       " 'surpassed': 1,\n",
       " 'by': 1,\n",
       " 'friendship': 1,\n",
       " 'for': 1,\n",
       " 'creating': 1,\n",
       " 'a': 1,\n",
       " 'transcendent': 1,\n",
       " 'cinematic': 1,\n",
       " 'experience': 1,\n",
       " 'everybody': 1,\n",
       " 'at': 1,\n",
       " 'fox': 1,\n",
       " 'new': 1,\n",
       " 'regency': 1,\n",
       " 'entire': 1,\n",
       " 'team': 1,\n",
       " 'everyone': 1,\n",
       " 'from': 1,\n",
       " 'onset': 1,\n",
       " 'career': 1,\n",
       " 'parents': 1,\n",
       " 'none': 1,\n",
       " 'would': 1,\n",
       " 'possible': 1,\n",
       " 'without': 1,\n",
       " 'friends': 1,\n",
       " 'love': 1,\n",
       " 'dearly': 1,\n",
       " 'know': 1,\n",
       " 'who': 1,\n",
       " 'are': 1}"
      ]
     },
     "execution_count": 10,
     "metadata": {},
     "output_type": "execute_result"
    }
   ],
   "source": [
    "word2count"
   ]
  },
  {
   "cell_type": "code",
   "execution_count": 11,
   "id": "fac2e604",
   "metadata": {},
   "outputs": [],
   "source": [
    "import heapq\n",
    "freq_words = heapq.nlargest(6,word2count,key=word2count.get)"
   ]
  },
  {
   "cell_type": "code",
   "execution_count": 12,
   "id": "0597791e",
   "metadata": {},
   "outputs": [
    {
     "data": {
      "text/plain": [
       "['you', 'to', 'thank', 'the', 'of', 'my']"
      ]
     },
     "execution_count": 12,
     "metadata": {},
     "output_type": "execute_result"
    }
   ],
   "source": [
    "freq_words"
   ]
  },
  {
   "cell_type": "code",
   "execution_count": 13,
   "id": "ccb09b4f",
   "metadata": {},
   "outputs": [],
   "source": [
    "#IDF"
   ]
  },
  {
   "cell_type": "code",
   "execution_count": 14,
   "id": "a63cbfd1",
   "metadata": {},
   "outputs": [],
   "source": [
    "word_idfs = {}\n",
    "for word in freq_words:\n",
    "    doc_count = 0\n",
    "    for data in dataset:\n",
    "        if word in nltk.word_tokenize(data):\n",
    "            doc_count += 1\n",
    "    word_idfs[word] = np.log((len(dataset)/doc_count)+1)"
   ]
  },
  {
   "cell_type": "code",
   "execution_count": 15,
   "id": "bdc1be6d",
   "metadata": {},
   "outputs": [
    {
     "data": {
      "text/plain": [
       "{'you': 0.8873031950009029,\n",
       " 'to': 0.8873031950009029,\n",
       " 'thank': 0.9808292530117263,\n",
       " 'the': 1.252762968495368,\n",
       " 'of': 1.4663370687934272,\n",
       " 'my': 1.252762968495368}"
      ]
     },
     "execution_count": 15,
     "metadata": {},
     "output_type": "execute_result"
    }
   ],
   "source": [
    "word_idfs"
   ]
  },
  {
   "cell_type": "code",
   "execution_count": 16,
   "id": "bc7427b2",
   "metadata": {},
   "outputs": [],
   "source": [
    "# TF"
   ]
  },
  {
   "cell_type": "code",
   "execution_count": 17,
   "id": "92e19e8e",
   "metadata": {},
   "outputs": [],
   "source": [
    "tf_matrix = {}\n",
    "for word in freq_words:\n",
    "    doc_tf = []\n",
    "    for data in dataset:\n",
    "        frequency = 0\n",
    "        for w in nltk.word_tokenize(data):\n",
    "            if w == word:\n",
    "                frequency += 1\n",
    "        tf_word = frequency/len(nltk.word_tokenize(data))\n",
    "        doc_tf.append(tf_word)\n",
    "    tf_matrix[word] = doc_tf"
   ]
  },
  {
   "cell_type": "code",
   "execution_count": 18,
   "id": "59d8677f",
   "metadata": {},
   "outputs": [
    {
     "data": {
      "text/plain": [
       "{'you': [0.16666666666666666,\n",
       "  0.2,\n",
       "  0.2222222222222222,\n",
       "  0.0,\n",
       "  0.0,\n",
       "  0.0,\n",
       "  0.045454545454545456,\n",
       "  0.08333333333333333,\n",
       "  0.043478260869565216,\n",
       "  0.23076923076923078],\n",
       " 'to': [0.0,\n",
       "  0.2,\n",
       "  0.1111111111111111,\n",
       "  0.1,\n",
       "  0.0,\n",
       "  0.09090909090909091,\n",
       "  0.0,\n",
       "  0.08333333333333333,\n",
       "  0.08695652173913043,\n",
       "  0.07692307692307693],\n",
       " 'thank': [0.16666666666666666,\n",
       "  0.2,\n",
       "  0.1111111111111111,\n",
       "  0.0,\n",
       "  0.0,\n",
       "  0.0,\n",
       "  0.045454545454545456,\n",
       "  0.08333333333333333,\n",
       "  0.043478260869565216,\n",
       "  0.0],\n",
       " 'the': [0.0, 0.2, 0.0, 0.1, 0.2, 0.0, 0.0, 0.0, 0.043478260869565216, 0.0],\n",
       " 'of': [0.0,\n",
       "  0.0,\n",
       "  0.1111111111111111,\n",
       "  0.0,\n",
       "  0.13333333333333333,\n",
       "  0.0,\n",
       "  0.0,\n",
       "  0.0,\n",
       "  0.08695652173913043,\n",
       "  0.0],\n",
       " 'my': [0.0,\n",
       "  0.0,\n",
       "  0.0,\n",
       "  0.0,\n",
       "  0.0,\n",
       "  0.09090909090909091,\n",
       "  0.0,\n",
       "  0.08333333333333333,\n",
       "  0.08695652173913043,\n",
       "  0.07692307692307693]}"
      ]
     },
     "execution_count": 18,
     "metadata": {},
     "output_type": "execute_result"
    }
   ],
   "source": [
    "tf_matrix"
   ]
  },
  {
   "cell_type": "code",
   "execution_count": 19,
   "id": "736ec497",
   "metadata": {},
   "outputs": [],
   "source": [
    "# TF-IDF"
   ]
  },
  {
   "cell_type": "code",
   "execution_count": 20,
   "id": "82f457df",
   "metadata": {},
   "outputs": [],
   "source": [
    "tfidf_matrix = []\n",
    "for word in tf_matrix.keys():\n",
    "    tfidf = []\n",
    "    for value in tf_matrix[word]:\n",
    "        score = value*word_idfs[word]\n",
    "        tfidf.append(score)\n",
    "    tfidf_matrix.append(tfidf)"
   ]
  },
  {
   "cell_type": "code",
   "execution_count": 21,
   "id": "7e9bba56",
   "metadata": {},
   "outputs": [
    {
     "data": {
      "text/plain": [
       "[[0.1478838658334838,\n",
       "  0.1774606390001806,\n",
       "  0.19717848777797842,\n",
       "  0.0,\n",
       "  0.0,\n",
       "  0.0,\n",
       "  0.040331963409131956,\n",
       "  0.0739419329167419,\n",
       "  0.03857839978264795,\n",
       "  0.20476227576943914],\n",
       " [0.0,\n",
       "  0.1774606390001806,\n",
       "  0.09858924388898921,\n",
       "  0.0887303195000903,\n",
       "  0.0,\n",
       "  0.08066392681826391,\n",
       "  0.0,\n",
       "  0.0739419329167419,\n",
       "  0.0771567995652959,\n",
       "  0.06825409192314638],\n",
       " [0.16347154216862103,\n",
       "  0.19616585060234526,\n",
       "  0.10898102811241403,\n",
       "  0.0,\n",
       "  0.0,\n",
       "  0.0,\n",
       "  0.04458314786416938,\n",
       "  0.08173577108431052,\n",
       "  0.04264475013094462,\n",
       "  0.0],\n",
       " [0.0,\n",
       "  0.2505525936990736,\n",
       "  0.0,\n",
       "  0.1252762968495368,\n",
       "  0.2505525936990736,\n",
       "  0.0,\n",
       "  0.0,\n",
       "  0.0,\n",
       "  0.05446795515197252,\n",
       "  0.0],\n",
       " [0.0,\n",
       "  0.0,\n",
       "  0.16292634097704745,\n",
       "  0.0,\n",
       "  0.19551160917245697,\n",
       "  0.0,\n",
       "  0.0,\n",
       "  0.0,\n",
       "  0.12750757119942846,\n",
       "  0.0],\n",
       " [0.0,\n",
       "  0.0,\n",
       "  0.0,\n",
       "  0.0,\n",
       "  0.0,\n",
       "  0.11388754259048801,\n",
       "  0.0,\n",
       "  0.10439691404128067,\n",
       "  0.10893591030394505,\n",
       "  0.0963663821919514]]"
      ]
     },
     "execution_count": 21,
     "metadata": {},
     "output_type": "execute_result"
    }
   ],
   "source": [
    "tfidf_matrix"
   ]
  },
  {
   "cell_type": "code",
   "execution_count": 22,
   "id": "a42064b1",
   "metadata": {},
   "outputs": [
    {
     "data": {
      "text/plain": [
       "6"
      ]
     },
     "execution_count": 22,
     "metadata": {},
     "output_type": "execute_result"
    }
   ],
   "source": [
    "len(tfidf_matrix)"
   ]
  },
  {
   "cell_type": "code",
   "execution_count": 23,
   "id": "e1f7dc70",
   "metadata": {},
   "outputs": [],
   "source": [
    "X = np.asarray(tfidf_matrix)"
   ]
  },
  {
   "cell_type": "code",
   "execution_count": 24,
   "id": "f4f306cf",
   "metadata": {},
   "outputs": [],
   "source": [
    "X = np.transpose(X)"
   ]
  },
  {
   "cell_type": "code",
   "execution_count": 25,
   "id": "5911d40b",
   "metadata": {},
   "outputs": [
    {
     "data": {
      "text/plain": [
       "(10, 6)"
      ]
     },
     "execution_count": 25,
     "metadata": {},
     "output_type": "execute_result"
    }
   ],
   "source": [
    "X.shape"
   ]
  },
  {
   "cell_type": "code",
   "execution_count": 26,
   "id": "db19124c",
   "metadata": {},
   "outputs": [
    {
     "data": {
      "text/plain": [
       "array([[0.14788387, 0.        , 0.16347154, 0.        , 0.        ,\n",
       "        0.        ],\n",
       "       [0.17746064, 0.17746064, 0.19616585, 0.25055259, 0.        ,\n",
       "        0.        ],\n",
       "       [0.19717849, 0.09858924, 0.10898103, 0.        , 0.16292634,\n",
       "        0.        ],\n",
       "       [0.        , 0.08873032, 0.        , 0.1252763 , 0.        ,\n",
       "        0.        ],\n",
       "       [0.        , 0.        , 0.        , 0.25055259, 0.19551161,\n",
       "        0.        ],\n",
       "       [0.        , 0.08066393, 0.        , 0.        , 0.        ,\n",
       "        0.11388754],\n",
       "       [0.04033196, 0.        , 0.04458315, 0.        , 0.        ,\n",
       "        0.        ],\n",
       "       [0.07394193, 0.07394193, 0.08173577, 0.        , 0.        ,\n",
       "        0.10439691],\n",
       "       [0.0385784 , 0.0771568 , 0.04264475, 0.05446796, 0.12750757,\n",
       "        0.10893591],\n",
       "       [0.20476228, 0.06825409, 0.        , 0.        , 0.        ,\n",
       "        0.09636638]])"
      ]
     },
     "execution_count": 26,
     "metadata": {},
     "output_type": "execute_result"
    }
   ],
   "source": [
    "X"
   ]
  },
  {
   "cell_type": "code",
   "execution_count": null,
   "id": "ba039a09",
   "metadata": {},
   "outputs": [],
   "source": []
  }
 ],
 "metadata": {
  "kernelspec": {
   "display_name": "Python 3",
   "language": "python",
   "name": "python3"
  },
  "language_info": {
   "codemirror_mode": {
    "name": "ipython",
    "version": 3
   },
   "file_extension": ".py",
   "mimetype": "text/x-python",
   "name": "python",
   "nbconvert_exporter": "python",
   "pygments_lexer": "ipython3",
   "version": "3.6.13"
  }
 },
 "nbformat": 4,
 "nbformat_minor": 5
}
