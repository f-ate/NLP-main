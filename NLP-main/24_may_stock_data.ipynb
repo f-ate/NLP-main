{
 "cells": [
  {
   "cell_type": "code",
   "execution_count": null,
   "id": "477e2793",
   "metadata": {},
   "outputs": [],
   "source": [
    "import pandas as pd"
   ]
  },
  {
   "cell_type": "code",
   "execution_count": null,
   "id": "1d7d938d",
   "metadata": {},
   "outputs": [],
   "source": [
    "df = pd.read_csv('Stock_Data.csv',encoding='ISO-8859-1')"
   ]
  },
  {
   "cell_type": "code",
   "execution_count": null,
   "id": "abe47f65",
   "metadata": {},
   "outputs": [],
   "source": [
    "df"
   ]
  },
  {
   "cell_type": "code",
   "execution_count": null,
   "id": "c5c376b9",
   "metadata": {},
   "outputs": [],
   "source": [
    "train = df[df['Date']<'20150101']\n",
    "test = df[df['Date']>'20141231']"
   ]
  },
  {
   "cell_type": "code",
   "execution_count": null,
   "id": "54f99b07",
   "metadata": {},
   "outputs": [],
   "source": [
    "train"
   ]
  },
  {
   "cell_type": "code",
   "execution_count": null,
   "id": "69b0721f",
   "metadata": {},
   "outputs": [],
   "source": [
    "test"
   ]
  },
  {
   "cell_type": "code",
   "execution_count": null,
   "id": "20623f1b",
   "metadata": {},
   "outputs": [],
   "source": [
    "train.shape"
   ]
  },
  {
   "cell_type": "code",
   "execution_count": null,
   "id": "f36f5c8d",
   "metadata": {},
   "outputs": [],
   "source": [
    "test.shape"
   ]
  },
  {
   "cell_type": "code",
   "execution_count": null,
   "id": "d75e2292",
   "metadata": {},
   "outputs": [],
   "source": [
    "data = train.iloc[:,2:27]"
   ]
  },
  {
   "cell_type": "code",
   "execution_count": null,
   "id": "cbc1d01c",
   "metadata": {},
   "outputs": [],
   "source": [
    "data"
   ]
  },
  {
   "cell_type": "code",
   "execution_count": null,
   "id": "994766bd",
   "metadata": {},
   "outputs": [],
   "source": [
    "data.replace(\"[^a-zA-Z]\",\" \",regex=True,inplace=True)"
   ]
  },
  {
   "cell_type": "code",
   "execution_count": null,
   "id": "276630e7",
   "metadata": {},
   "outputs": [],
   "source": [
    "data"
   ]
  },
  {
   "cell_type": "code",
   "execution_count": null,
   "id": "851145b0",
   "metadata": {},
   "outputs": [],
   "source": [
    "list1 = [i for i in range(25)]"
   ]
  },
  {
   "cell_type": "code",
   "execution_count": null,
   "id": "79f98358",
   "metadata": {},
   "outputs": [],
   "source": [
    "list1"
   ]
  },
  {
   "cell_type": "code",
   "execution_count": null,
   "id": "635e36df",
   "metadata": {},
   "outputs": [],
   "source": [
    "new_Index = [str(i) for i in list1]"
   ]
  },
  {
   "cell_type": "code",
   "execution_count": null,
   "id": "f75c75dc",
   "metadata": {},
   "outputs": [],
   "source": [
    "new_Index"
   ]
  },
  {
   "cell_type": "code",
   "execution_count": null,
   "id": "01511a30",
   "metadata": {},
   "outputs": [],
   "source": [
    "data.columns = new_Index"
   ]
  },
  {
   "cell_type": "code",
   "execution_count": null,
   "id": "be629ac6",
   "metadata": {},
   "outputs": [],
   "source": [
    "data"
   ]
  },
  {
   "cell_type": "code",
   "execution_count": null,
   "id": "e8fde11c",
   "metadata": {},
   "outputs": [],
   "source": [
    "for index in new_Index:\n",
    "    data[index] = data[index].str.lower()"
   ]
  },
  {
   "cell_type": "code",
   "execution_count": null,
   "id": "ce944872",
   "metadata": {},
   "outputs": [],
   "source": [
    "data"
   ]
  },
  {
   "cell_type": "code",
   "execution_count": null,
   "id": "9cd012bd",
   "metadata": {},
   "outputs": [],
   "source": [
    "' '.join(str(x) for x in data.iloc[0,0:25])"
   ]
  },
  {
   "cell_type": "code",
   "execution_count": null,
   "id": "20cb0142",
   "metadata": {},
   "outputs": [],
   "source": [
    "headlines = []\n",
    "for row in range(0,len(data.index)):\n",
    "    headlines.append(' '.join(str(x) for x in data.iloc[row,0:25]))"
   ]
  },
  {
   "cell_type": "code",
   "execution_count": null,
   "id": "7090a332",
   "metadata": {},
   "outputs": [],
   "source": [
    "headlines"
   ]
  },
  {
   "cell_type": "code",
   "execution_count": null,
   "id": "5c726014",
   "metadata": {},
   "outputs": [],
   "source": [
    "len(headlines)"
   ]
  },
  {
   "cell_type": "code",
   "execution_count": null,
   "id": "af750ba2",
   "metadata": {},
   "outputs": [],
   "source": [
    "from sklearn.feature_extraction.text import CountVectorizer\n",
    "from sklearn.ensemble import RandomForestClassifier"
   ]
  },
  {
   "cell_type": "code",
   "execution_count": null,
   "id": "f570a027",
   "metadata": {},
   "outputs": [],
   "source": [
    "#from sklearn.feature_extraction.text import CountVectorizer\n",
    "#cv = CountVectorizer(ngram_range=(2,2))\n",
    "#print(cv.fit([\"my name is dany petkar from nagpur\"]).vocabulary_)"
   ]
  },
  {
   "cell_type": "code",
   "execution_count": null,
   "id": "12e0b112",
   "metadata": {},
   "outputs": [],
   "source": [
    "countvector = CountVectorizer(ngram_range=(2,2))\n",
    "traindataset = countvector.fit_transform(headlines)"
   ]
  },
  {
   "cell_type": "code",
   "execution_count": null,
   "id": "8588293f",
   "metadata": {},
   "outputs": [],
   "source": [
    "traindataset"
   ]
  },
  {
   "cell_type": "code",
   "execution_count": null,
   "id": "31c8dc6a",
   "metadata": {},
   "outputs": [],
   "source": [
    "import numpy as np"
   ]
  },
  {
   "cell_type": "code",
   "execution_count": null,
   "id": "a3a6249d",
   "metadata": {},
   "outputs": [],
   "source": [
    "randomclassifier = RandomForestClassifier(n_estimators=200,criterion='entropy')"
   ]
  },
  {
   "cell_type": "code",
   "execution_count": null,
   "id": "3f3123f4",
   "metadata": {},
   "outputs": [],
   "source": [
    "randomclassifier.fit(traindataset,train['Label'])"
   ]
  },
  {
   "cell_type": "code",
   "execution_count": null,
   "id": "073ef1aa",
   "metadata": {},
   "outputs": [],
   "source": [
    "test_transform = []\n",
    "for row in range(0,len(test.index)):\n",
    "    test_transform.append(' '.join(str(x) for x in test.iloc[row,2:27]))\n",
    "    "
   ]
  },
  {
   "cell_type": "code",
   "execution_count": null,
   "id": "35653853",
   "metadata": {},
   "outputs": [],
   "source": [
    "test_transform"
   ]
  },
  {
   "cell_type": "code",
   "execution_count": null,
   "id": "f2cd80fa",
   "metadata": {},
   "outputs": [],
   "source": [
    "test_dataset = countvector.transform(test_transform)"
   ]
  },
  {
   "cell_type": "code",
   "execution_count": null,
   "id": "75300c76",
   "metadata": {},
   "outputs": [],
   "source": [
    "test_dataset"
   ]
  },
  {
   "cell_type": "code",
   "execution_count": null,
   "id": "e41d93d1",
   "metadata": {},
   "outputs": [],
   "source": [
    "pred = randomclassifier.predict(test_dataset)"
   ]
  },
  {
   "cell_type": "code",
   "execution_count": null,
   "id": "e8f524da",
   "metadata": {},
   "outputs": [],
   "source": [
    "pred"
   ]
  },
  {
   "cell_type": "code",
   "execution_count": null,
   "id": "acf5a6a7",
   "metadata": {},
   "outputs": [],
   "source": [
    "from sklearn.metrics import confusion_matrix,classification_report"
   ]
  },
  {
   "cell_type": "code",
   "execution_count": null,
   "id": "305a4e17",
   "metadata": {},
   "outputs": [],
   "source": [
    "print(confusion_matrix(test['Label'],pred))"
   ]
  },
  {
   "cell_type": "code",
   "execution_count": null,
   "id": "c0251f5c",
   "metadata": {},
   "outputs": [],
   "source": [
    "print(classification_report(test['Label'],pred))"
   ]
  },
  {
   "cell_type": "code",
   "execution_count": null,
   "id": "81921eb4",
   "metadata": {},
   "outputs": [],
   "source": []
  }
 ],
 "metadata": {
  "kernelspec": {
   "display_name": "Python 3",
   "language": "python",
   "name": "python3"
  },
  "language_info": {
   "codemirror_mode": {
    "name": "ipython",
    "version": 3
   },
   "file_extension": ".py",
   "mimetype": "text/x-python",
   "name": "python",
   "nbconvert_exporter": "python",
   "pygments_lexer": "ipython3",
   "version": "3.6.13"
  }
 },
 "nbformat": 4,
 "nbformat_minor": 5
}
