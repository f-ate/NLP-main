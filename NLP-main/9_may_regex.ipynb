{
 "cells": [
  {
   "cell_type": "code",
   "execution_count": 9,
   "id": "400c32f7",
   "metadata": {},
   "outputs": [],
   "source": [
    "X = [\"this is name @dany\",\n",
    "    \"welcome to jungle #missing\",\n",
    "    \"11234 the number of my car\",\n",
    "    \"Remember my friend sijo-jose\",\n",
    "    \"I Love     india\"]"
   ]
  },
  {
   "cell_type": "code",
   "execution_count": 10,
   "id": "e6ea595e",
   "metadata": {},
   "outputs": [],
   "source": [
    "len(X)\n",
    "import re"
   ]
  },
  {
   "cell_type": "code",
   "execution_count": 17,
   "id": "fb6dc197",
   "metadata": {},
   "outputs": [],
   "source": [
    "for i in range(len(X)):\n",
    "    X[i] = re.sub(r'\\W',\" \",X[i])\n",
    "    X[i] = re.sub(r'\\d',\" \",X[i])\n",
    "    X[i] = re.sub(r'^\\s+','',X[i])\n",
    "    X[i] = re.sub(r'\\s+',' ',X[i])"
   ]
  },
  {
   "cell_type": "code",
   "execution_count": 18,
   "id": "091225fc",
   "metadata": {},
   "outputs": [
    {
     "data": {
      "text/plain": [
       "['this is name dany',\n",
       " 'welcome to jungle missing',\n",
       " 'the number of my car',\n",
       " 'Remember my friend sijo jose',\n",
       " 'I Love india']"
      ]
     },
     "execution_count": 18,
     "metadata": {},
     "output_type": "execute_result"
    }
   ],
   "source": [
    "X"
   ]
  },
  {
   "cell_type": "code",
   "execution_count": 19,
   "id": "25740f1a",
   "metadata": {},
   "outputs": [],
   "source": [
    "# Natural language toolkit"
   ]
  },
  {
   "cell_type": "code",
   "execution_count": 20,
   "id": "b713d1d5",
   "metadata": {},
   "outputs": [],
   "source": [
    "# pip install nltk"
   ]
  },
  {
   "cell_type": "code",
   "execution_count": 21,
   "id": "a1703b04",
   "metadata": {},
   "outputs": [],
   "source": [
    "import nltk"
   ]
  },
  {
   "cell_type": "code",
   "execution_count": 22,
   "id": "25fa73ee",
   "metadata": {},
   "outputs": [
    {
     "name": "stdout",
     "output_type": "stream",
     "text": [
      "showing info https://raw.githubusercontent.com/nltk/nltk_data/gh-pages/index.xml\n"
     ]
    },
    {
     "data": {
      "text/plain": [
       "True"
      ]
     },
     "execution_count": 22,
     "metadata": {},
     "output_type": "execute_result"
    }
   ],
   "source": [
    "nltk.download()"
   ]
  },
  {
   "cell_type": "code",
   "execution_count": 23,
   "id": "c6e7d6eb",
   "metadata": {},
   "outputs": [],
   "source": [
    "paragraph = \"\"\"Thank you all so very much. Thank you to the Academy. Thank you to all of you in this room. I have to congratulate the other incredible nominees this year. The Revenant was the product of the tireless efforts of an unbelievable cast and crew. First off, to my brother in this endeavor, Mr. Tom Hardy. Tom, your talent on screen can only be surpassed by your friendship off screen … thank you for creating a transcendent cinematic experience. Thank you to everybody at Fox and New Regency … my entire team. I have to thank everyone from the very onset of my career … To my parents; none of this would be possible without you. And to my friends, I love you dearly; you know who you are.\"\"\""
   ]
  },
  {
   "cell_type": "code",
   "execution_count": 24,
   "id": "7d436f47",
   "metadata": {},
   "outputs": [
    {
     "data": {
      "text/plain": [
       "'Thank you all so very much. Thank you to the Academy. Thank you to all of you in this room. I have to congratulate the other incredible nominees this year. The Revenant was the product of the tireless efforts of an unbelievable cast and crew. First off, to my brother in this endeavor, Mr. Tom Hardy. Tom, your talent on screen can only be surpassed by your friendship off screen … thank you for creating a transcendent cinematic experience. Thank you to everybody at Fox and New Regency … my entire team. I have to thank everyone from the very onset of my career … To my parents; none of this would be possible without you. And to my friends, I love you dearly; you know who you are.'"
      ]
     },
     "execution_count": 24,
     "metadata": {},
     "output_type": "execute_result"
    }
   ],
   "source": [
    "paragraph"
   ]
  },
  {
   "cell_type": "code",
   "execution_count": 25,
   "id": "6118581e",
   "metadata": {},
   "outputs": [
    {
     "data": {
      "text/plain": [
       "['Thank you all so very much',\n",
       " ' Thank you to the Academy',\n",
       " ' Thank you to all of you in this room',\n",
       " ' I have to congratulate the other incredible nominees this year',\n",
       " ' The Revenant was the product of the tireless efforts of an unbelievable cast and crew',\n",
       " ' First off, to my brother in this endeavor, Mr',\n",
       " ' Tom Hardy',\n",
       " ' Tom, your talent on screen can only be surpassed by your friendship off screen … thank you for creating a transcendent cinematic experience',\n",
       " ' Thank you to everybody at Fox and New Regency … my entire team',\n",
       " ' I have to thank everyone from the very onset of my career … To my parents; none of this would be possible without you',\n",
       " ' And to my friends, I love you dearly; you know who you are',\n",
       " '']"
      ]
     },
     "execution_count": 25,
     "metadata": {},
     "output_type": "execute_result"
    }
   ],
   "source": [
    "paragraph.split('.')"
   ]
  },
  {
   "cell_type": "code",
   "execution_count": 26,
   "id": "797a4ced",
   "metadata": {},
   "outputs": [
    {
     "data": {
      "text/plain": [
       "['Thank you all so very much.',\n",
       " 'Thank you to the Academy.',\n",
       " 'Thank you to all of you in this room.',\n",
       " 'I have to congratulate the other incredible nominees this year.',\n",
       " 'The Revenant was the product of the tireless efforts of an unbelievable cast and crew.',\n",
       " 'First off, to my brother in this endeavor, Mr. Tom Hardy.',\n",
       " 'Tom, your talent on screen can only be surpassed by your friendship off screen … thank you for creating a transcendent cinematic experience.',\n",
       " 'Thank you to everybody at Fox and New Regency … my entire team.',\n",
       " 'I have to thank everyone from the very onset of my career … To my parents; none of this would be possible without you.',\n",
       " 'And to my friends, I love you dearly; you know who you are.']"
      ]
     },
     "execution_count": 26,
     "metadata": {},
     "output_type": "execute_result"
    }
   ],
   "source": [
    "nltk.sent_tokenize(paragraph)"
   ]
  },
  {
   "cell_type": "code",
   "execution_count": 27,
   "id": "cb83a795",
   "metadata": {},
   "outputs": [
    {
     "data": {
      "text/plain": [
       "['Thank',\n",
       " 'you',\n",
       " 'all',\n",
       " 'so',\n",
       " 'very',\n",
       " 'much.',\n",
       " 'Thank',\n",
       " 'you',\n",
       " 'to',\n",
       " 'the',\n",
       " 'Academy.',\n",
       " 'Thank',\n",
       " 'you',\n",
       " 'to',\n",
       " 'all',\n",
       " 'of',\n",
       " 'you',\n",
       " 'in',\n",
       " 'this',\n",
       " 'room.',\n",
       " 'I',\n",
       " 'have',\n",
       " 'to',\n",
       " 'congratulate',\n",
       " 'the',\n",
       " 'other',\n",
       " 'incredible',\n",
       " 'nominees',\n",
       " 'this',\n",
       " 'year.',\n",
       " 'The',\n",
       " 'Revenant',\n",
       " 'was',\n",
       " 'the',\n",
       " 'product',\n",
       " 'of',\n",
       " 'the',\n",
       " 'tireless',\n",
       " 'efforts',\n",
       " 'of',\n",
       " 'an',\n",
       " 'unbelievable',\n",
       " 'cast',\n",
       " 'and',\n",
       " 'crew.',\n",
       " 'First',\n",
       " 'off,',\n",
       " 'to',\n",
       " 'my',\n",
       " 'brother',\n",
       " 'in',\n",
       " 'this',\n",
       " 'endeavor,',\n",
       " 'Mr.',\n",
       " 'Tom',\n",
       " 'Hardy.',\n",
       " 'Tom,',\n",
       " 'your',\n",
       " 'talent',\n",
       " 'on',\n",
       " 'screen',\n",
       " 'can',\n",
       " 'only',\n",
       " 'be',\n",
       " 'surpassed',\n",
       " 'by',\n",
       " 'your',\n",
       " 'friendship',\n",
       " 'off',\n",
       " 'screen',\n",
       " '…',\n",
       " 'thank',\n",
       " 'you',\n",
       " 'for',\n",
       " 'creating',\n",
       " 'a',\n",
       " 'transcendent',\n",
       " 'cinematic',\n",
       " 'experience.',\n",
       " 'Thank',\n",
       " 'you',\n",
       " 'to',\n",
       " 'everybody',\n",
       " 'at',\n",
       " 'Fox',\n",
       " 'and',\n",
       " 'New',\n",
       " 'Regency',\n",
       " '…',\n",
       " 'my',\n",
       " 'entire',\n",
       " 'team.',\n",
       " 'I',\n",
       " 'have',\n",
       " 'to',\n",
       " 'thank',\n",
       " 'everyone',\n",
       " 'from',\n",
       " 'the',\n",
       " 'very',\n",
       " 'onset',\n",
       " 'of',\n",
       " 'my',\n",
       " 'career',\n",
       " '…',\n",
       " 'To',\n",
       " 'my',\n",
       " 'parents;',\n",
       " 'none',\n",
       " 'of',\n",
       " 'this',\n",
       " 'would',\n",
       " 'be',\n",
       " 'possible',\n",
       " 'without',\n",
       " 'you.',\n",
       " 'And',\n",
       " 'to',\n",
       " 'my',\n",
       " 'friends,',\n",
       " 'I',\n",
       " 'love',\n",
       " 'you',\n",
       " 'dearly;',\n",
       " 'you',\n",
       " 'know',\n",
       " 'who',\n",
       " 'you',\n",
       " 'are.']"
      ]
     },
     "execution_count": 27,
     "metadata": {},
     "output_type": "execute_result"
    }
   ],
   "source": [
    "paragraph.split(' ')"
   ]
  },
  {
   "cell_type": "code",
   "execution_count": 28,
   "id": "ae89b4fa",
   "metadata": {},
   "outputs": [
    {
     "data": {
      "text/plain": [
       "['Thank',\n",
       " 'you',\n",
       " 'all',\n",
       " 'so',\n",
       " 'very',\n",
       " 'much',\n",
       " '.',\n",
       " 'Thank',\n",
       " 'you',\n",
       " 'to',\n",
       " 'the',\n",
       " 'Academy',\n",
       " '.',\n",
       " 'Thank',\n",
       " 'you',\n",
       " 'to',\n",
       " 'all',\n",
       " 'of',\n",
       " 'you',\n",
       " 'in',\n",
       " 'this',\n",
       " 'room',\n",
       " '.',\n",
       " 'I',\n",
       " 'have',\n",
       " 'to',\n",
       " 'congratulate',\n",
       " 'the',\n",
       " 'other',\n",
       " 'incredible',\n",
       " 'nominees',\n",
       " 'this',\n",
       " 'year',\n",
       " '.',\n",
       " 'The',\n",
       " 'Revenant',\n",
       " 'was',\n",
       " 'the',\n",
       " 'product',\n",
       " 'of',\n",
       " 'the',\n",
       " 'tireless',\n",
       " 'efforts',\n",
       " 'of',\n",
       " 'an',\n",
       " 'unbelievable',\n",
       " 'cast',\n",
       " 'and',\n",
       " 'crew',\n",
       " '.',\n",
       " 'First',\n",
       " 'off',\n",
       " ',',\n",
       " 'to',\n",
       " 'my',\n",
       " 'brother',\n",
       " 'in',\n",
       " 'this',\n",
       " 'endeavor',\n",
       " ',',\n",
       " 'Mr.',\n",
       " 'Tom',\n",
       " 'Hardy',\n",
       " '.',\n",
       " 'Tom',\n",
       " ',',\n",
       " 'your',\n",
       " 'talent',\n",
       " 'on',\n",
       " 'screen',\n",
       " 'can',\n",
       " 'only',\n",
       " 'be',\n",
       " 'surpassed',\n",
       " 'by',\n",
       " 'your',\n",
       " 'friendship',\n",
       " 'off',\n",
       " 'screen',\n",
       " '…',\n",
       " 'thank',\n",
       " 'you',\n",
       " 'for',\n",
       " 'creating',\n",
       " 'a',\n",
       " 'transcendent',\n",
       " 'cinematic',\n",
       " 'experience',\n",
       " '.',\n",
       " 'Thank',\n",
       " 'you',\n",
       " 'to',\n",
       " 'everybody',\n",
       " 'at',\n",
       " 'Fox',\n",
       " 'and',\n",
       " 'New',\n",
       " 'Regency',\n",
       " '…',\n",
       " 'my',\n",
       " 'entire',\n",
       " 'team',\n",
       " '.',\n",
       " 'I',\n",
       " 'have',\n",
       " 'to',\n",
       " 'thank',\n",
       " 'everyone',\n",
       " 'from',\n",
       " 'the',\n",
       " 'very',\n",
       " 'onset',\n",
       " 'of',\n",
       " 'my',\n",
       " 'career',\n",
       " '…',\n",
       " 'To',\n",
       " 'my',\n",
       " 'parents',\n",
       " ';',\n",
       " 'none',\n",
       " 'of',\n",
       " 'this',\n",
       " 'would',\n",
       " 'be',\n",
       " 'possible',\n",
       " 'without',\n",
       " 'you',\n",
       " '.',\n",
       " 'And',\n",
       " 'to',\n",
       " 'my',\n",
       " 'friends',\n",
       " ',',\n",
       " 'I',\n",
       " 'love',\n",
       " 'you',\n",
       " 'dearly',\n",
       " ';',\n",
       " 'you',\n",
       " 'know',\n",
       " 'who',\n",
       " 'you',\n",
       " 'are',\n",
       " '.']"
      ]
     },
     "execution_count": 28,
     "metadata": {},
     "output_type": "execute_result"
    }
   ],
   "source": [
    "nltk.word_tokenize(paragraph)"
   ]
  },
  {
   "cell_type": "code",
   "execution_count": 29,
   "id": "f0d14cbc",
   "metadata": {},
   "outputs": [],
   "source": [
    "#stemming"
   ]
  },
  {
   "cell_type": "code",
   "execution_count": 30,
   "id": "66ced214",
   "metadata": {},
   "outputs": [],
   "source": [
    "from nltk.stem import PorterStemmer"
   ]
  },
  {
   "cell_type": "code",
   "execution_count": 31,
   "id": "a6e8ac80",
   "metadata": {},
   "outputs": [
    {
     "data": {
      "text/plain": [
       "'Thank you all so very much. Thank you to the Academy. Thank you to all of you in this room. I have to congratulate the other incredible nominees this year. The Revenant was the product of the tireless efforts of an unbelievable cast and crew. First off, to my brother in this endeavor, Mr. Tom Hardy. Tom, your talent on screen can only be surpassed by your friendship off screen … thank you for creating a transcendent cinematic experience. Thank you to everybody at Fox and New Regency … my entire team. I have to thank everyone from the very onset of my career … To my parents; none of this would be possible without you. And to my friends, I love you dearly; you know who you are.'"
      ]
     },
     "execution_count": 31,
     "metadata": {},
     "output_type": "execute_result"
    }
   ],
   "source": [
    "paragraph"
   ]
  },
  {
   "cell_type": "code",
   "execution_count": 32,
   "id": "b08f75b0",
   "metadata": {},
   "outputs": [],
   "source": [
    "sentences = nltk.sent_tokenize(paragraph)"
   ]
  },
  {
   "cell_type": "code",
   "execution_count": 33,
   "id": "96f75689",
   "metadata": {},
   "outputs": [
    {
     "data": {
      "text/plain": [
       "['Thank you all so very much.',\n",
       " 'Thank you to the Academy.',\n",
       " 'Thank you to all of you in this room.',\n",
       " 'I have to congratulate the other incredible nominees this year.',\n",
       " 'The Revenant was the product of the tireless efforts of an unbelievable cast and crew.',\n",
       " 'First off, to my brother in this endeavor, Mr. Tom Hardy.',\n",
       " 'Tom, your talent on screen can only be surpassed by your friendship off screen … thank you for creating a transcendent cinematic experience.',\n",
       " 'Thank you to everybody at Fox and New Regency … my entire team.',\n",
       " 'I have to thank everyone from the very onset of my career … To my parents; none of this would be possible without you.',\n",
       " 'And to my friends, I love you dearly; you know who you are.']"
      ]
     },
     "execution_count": 33,
     "metadata": {},
     "output_type": "execute_result"
    }
   ],
   "source": [
    "sentences"
   ]
  },
  {
   "cell_type": "code",
   "execution_count": 34,
   "id": "e8db6a08",
   "metadata": {},
   "outputs": [
    {
     "data": {
      "text/plain": [
       "10"
      ]
     },
     "execution_count": 34,
     "metadata": {},
     "output_type": "execute_result"
    }
   ],
   "source": [
    "len(sentences)"
   ]
  },
  {
   "cell_type": "code",
   "execution_count": 35,
   "id": "b1f6f16d",
   "metadata": {},
   "outputs": [],
   "source": [
    "stemmer = PorterStemmer()"
   ]
  },
  {
   "cell_type": "code",
   "execution_count": 36,
   "id": "aab2d877",
   "metadata": {},
   "outputs": [],
   "source": [
    "for i in range(len(sentences)):\n",
    "    words = nltk.word_tokenize(sentences[i])\n",
    "    new_words = [stemmer.stem(word) for word in words]\n",
    "    sentences[i] = ' '.join(new_words)"
   ]
  },
  {
   "cell_type": "code",
   "execution_count": 37,
   "id": "2123a586",
   "metadata": {},
   "outputs": [
    {
     "data": {
      "text/plain": [
       "['thank you all so veri much .',\n",
       " 'thank you to the academi .',\n",
       " 'thank you to all of you in thi room .',\n",
       " 'i have to congratul the other incred nomine thi year .',\n",
       " 'the reven wa the product of the tireless effort of an unbeliev cast and crew .',\n",
       " 'first off , to my brother in thi endeavor , mr. tom hardi .',\n",
       " 'tom , your talent on screen can onli be surpass by your friendship off screen … thank you for creat a transcend cinemat experi .',\n",
       " 'thank you to everybodi at fox and new regenc … my entir team .',\n",
       " 'i have to thank everyon from the veri onset of my career … to my parent ; none of thi would be possibl without you .',\n",
       " 'and to my friend , i love you dearli ; you know who you are .']"
      ]
     },
     "execution_count": 37,
     "metadata": {},
     "output_type": "execute_result"
    }
   ],
   "source": [
    "sentences"
   ]
  },
  {
   "cell_type": "code",
   "execution_count": 38,
   "id": "e9b65594",
   "metadata": {},
   "outputs": [],
   "source": [
    "# Lemmatization"
   ]
  },
  {
   "cell_type": "code",
   "execution_count": 39,
   "id": "79734566",
   "metadata": {},
   "outputs": [],
   "source": [
    "from nltk.stem import WordNetLemmatizer"
   ]
  },
  {
   "cell_type": "code",
   "execution_count": 40,
   "id": "975ff114",
   "metadata": {},
   "outputs": [],
   "source": [
    "lemmatizer = WordNetLemmatizer()"
   ]
  },
  {
   "cell_type": "code",
   "execution_count": 41,
   "id": "e94d2473",
   "metadata": {},
   "outputs": [],
   "source": [
    "sentences = nltk.sent_tokenize(paragraph)"
   ]
  },
  {
   "cell_type": "code",
   "execution_count": 42,
   "id": "53b25b05",
   "metadata": {},
   "outputs": [
    {
     "data": {
      "text/plain": [
       "['Thank you all so very much.',\n",
       " 'Thank you to the Academy.',\n",
       " 'Thank you to all of you in this room.',\n",
       " 'I have to congratulate the other incredible nominees this year.',\n",
       " 'The Revenant was the product of the tireless efforts of an unbelievable cast and crew.',\n",
       " 'First off, to my brother in this endeavor, Mr. Tom Hardy.',\n",
       " 'Tom, your talent on screen can only be surpassed by your friendship off screen … thank you for creating a transcendent cinematic experience.',\n",
       " 'Thank you to everybody at Fox and New Regency … my entire team.',\n",
       " 'I have to thank everyone from the very onset of my career … To my parents; none of this would be possible without you.',\n",
       " 'And to my friends, I love you dearly; you know who you are.']"
      ]
     },
     "execution_count": 42,
     "metadata": {},
     "output_type": "execute_result"
    }
   ],
   "source": [
    "sentences"
   ]
  },
  {
   "cell_type": "code",
   "execution_count": 43,
   "id": "75675051",
   "metadata": {},
   "outputs": [],
   "source": [
    "for i in range(len(sentences)):\n",
    "    words =  nltk.word_tokenize(sentences[i])\n",
    "    new_words = [lemmatizer.lemmatize(word) for word in words]\n",
    "    sentences[i] = ' '.join(new_words)"
   ]
  },
  {
   "cell_type": "code",
   "execution_count": 44,
   "id": "9b535f18",
   "metadata": {},
   "outputs": [
    {
     "data": {
      "text/plain": [
       "['Thank you all so very much .',\n",
       " 'Thank you to the Academy .',\n",
       " 'Thank you to all of you in this room .',\n",
       " 'I have to congratulate the other incredible nominee this year .',\n",
       " 'The Revenant wa the product of the tireless effort of an unbelievable cast and crew .',\n",
       " 'First off , to my brother in this endeavor , Mr. Tom Hardy .',\n",
       " 'Tom , your talent on screen can only be surpassed by your friendship off screen … thank you for creating a transcendent cinematic experience .',\n",
       " 'Thank you to everybody at Fox and New Regency … my entire team .',\n",
       " 'I have to thank everyone from the very onset of my career … To my parent ; none of this would be possible without you .',\n",
       " 'And to my friend , I love you dearly ; you know who you are .']"
      ]
     },
     "execution_count": 44,
     "metadata": {},
     "output_type": "execute_result"
    }
   ],
   "source": [
    "sentences"
   ]
  },
  {
   "cell_type": "code",
   "execution_count": 45,
   "id": "cbded165",
   "metadata": {},
   "outputs": [],
   "source": [
    "# stop words"
   ]
  },
  {
   "cell_type": "code",
   "execution_count": 46,
   "id": "8bd38c0a",
   "metadata": {},
   "outputs": [],
   "source": [
    "from nltk.corpus import stopwords"
   ]
  },
  {
   "cell_type": "code",
   "execution_count": 47,
   "id": "a5ba2e79",
   "metadata": {},
   "outputs": [],
   "source": [
    "sentences = nltk.sent_tokenize(paragraph)"
   ]
  },
  {
   "cell_type": "code",
   "execution_count": 48,
   "id": "3d226e5f",
   "metadata": {},
   "outputs": [
    {
     "data": {
      "text/plain": [
       "['Thank you all so very much.',\n",
       " 'Thank you to the Academy.',\n",
       " 'Thank you to all of you in this room.',\n",
       " 'I have to congratulate the other incredible nominees this year.',\n",
       " 'The Revenant was the product of the tireless efforts of an unbelievable cast and crew.',\n",
       " 'First off, to my brother in this endeavor, Mr. Tom Hardy.',\n",
       " 'Tom, your talent on screen can only be surpassed by your friendship off screen … thank you for creating a transcendent cinematic experience.',\n",
       " 'Thank you to everybody at Fox and New Regency … my entire team.',\n",
       " 'I have to thank everyone from the very onset of my career … To my parents; none of this would be possible without you.',\n",
       " 'And to my friends, I love you dearly; you know who you are.']"
      ]
     },
     "execution_count": 48,
     "metadata": {},
     "output_type": "execute_result"
    }
   ],
   "source": [
    "sentences"
   ]
  },
  {
   "cell_type": "code",
   "execution_count": 49,
   "id": "5abebc56",
   "metadata": {},
   "outputs": [
    {
     "data": {
      "text/plain": [
       "['i',\n",
       " 'me',\n",
       " 'my',\n",
       " 'myself',\n",
       " 'we',\n",
       " 'our',\n",
       " 'ours',\n",
       " 'ourselves',\n",
       " 'you',\n",
       " \"you're\",\n",
       " \"you've\",\n",
       " \"you'll\",\n",
       " \"you'd\",\n",
       " 'your',\n",
       " 'yours',\n",
       " 'yourself',\n",
       " 'yourselves',\n",
       " 'he',\n",
       " 'him',\n",
       " 'his',\n",
       " 'himself',\n",
       " 'she',\n",
       " \"she's\",\n",
       " 'her',\n",
       " 'hers',\n",
       " 'herself',\n",
       " 'it',\n",
       " \"it's\",\n",
       " 'its',\n",
       " 'itself',\n",
       " 'they',\n",
       " 'them',\n",
       " 'their',\n",
       " 'theirs',\n",
       " 'themselves',\n",
       " 'what',\n",
       " 'which',\n",
       " 'who',\n",
       " 'whom',\n",
       " 'this',\n",
       " 'that',\n",
       " \"that'll\",\n",
       " 'these',\n",
       " 'those',\n",
       " 'am',\n",
       " 'is',\n",
       " 'are',\n",
       " 'was',\n",
       " 'were',\n",
       " 'be',\n",
       " 'been',\n",
       " 'being',\n",
       " 'have',\n",
       " 'has',\n",
       " 'had',\n",
       " 'having',\n",
       " 'do',\n",
       " 'does',\n",
       " 'did',\n",
       " 'doing',\n",
       " 'a',\n",
       " 'an',\n",
       " 'the',\n",
       " 'and',\n",
       " 'but',\n",
       " 'if',\n",
       " 'or',\n",
       " 'because',\n",
       " 'as',\n",
       " 'until',\n",
       " 'while',\n",
       " 'of',\n",
       " 'at',\n",
       " 'by',\n",
       " 'for',\n",
       " 'with',\n",
       " 'about',\n",
       " 'against',\n",
       " 'between',\n",
       " 'into',\n",
       " 'through',\n",
       " 'during',\n",
       " 'before',\n",
       " 'after',\n",
       " 'above',\n",
       " 'below',\n",
       " 'to',\n",
       " 'from',\n",
       " 'up',\n",
       " 'down',\n",
       " 'in',\n",
       " 'out',\n",
       " 'on',\n",
       " 'off',\n",
       " 'over',\n",
       " 'under',\n",
       " 'again',\n",
       " 'further',\n",
       " 'then',\n",
       " 'once',\n",
       " 'here',\n",
       " 'there',\n",
       " 'when',\n",
       " 'where',\n",
       " 'why',\n",
       " 'how',\n",
       " 'all',\n",
       " 'any',\n",
       " 'both',\n",
       " 'each',\n",
       " 'few',\n",
       " 'more',\n",
       " 'most',\n",
       " 'other',\n",
       " 'some',\n",
       " 'such',\n",
       " 'no',\n",
       " 'nor',\n",
       " 'not',\n",
       " 'only',\n",
       " 'own',\n",
       " 'same',\n",
       " 'so',\n",
       " 'than',\n",
       " 'too',\n",
       " 'very',\n",
       " 's',\n",
       " 't',\n",
       " 'can',\n",
       " 'will',\n",
       " 'just',\n",
       " 'don',\n",
       " \"don't\",\n",
       " 'should',\n",
       " \"should've\",\n",
       " 'now',\n",
       " 'd',\n",
       " 'll',\n",
       " 'm',\n",
       " 'o',\n",
       " 're',\n",
       " 've',\n",
       " 'y',\n",
       " 'ain',\n",
       " 'aren',\n",
       " \"aren't\",\n",
       " 'couldn',\n",
       " \"couldn't\",\n",
       " 'didn',\n",
       " \"didn't\",\n",
       " 'doesn',\n",
       " \"doesn't\",\n",
       " 'hadn',\n",
       " \"hadn't\",\n",
       " 'hasn',\n",
       " \"hasn't\",\n",
       " 'haven',\n",
       " \"haven't\",\n",
       " 'isn',\n",
       " \"isn't\",\n",
       " 'ma',\n",
       " 'mightn',\n",
       " \"mightn't\",\n",
       " 'mustn',\n",
       " \"mustn't\",\n",
       " 'needn',\n",
       " \"needn't\",\n",
       " 'shan',\n",
       " \"shan't\",\n",
       " 'shouldn',\n",
       " \"shouldn't\",\n",
       " 'wasn',\n",
       " \"wasn't\",\n",
       " 'weren',\n",
       " \"weren't\",\n",
       " 'won',\n",
       " \"won't\",\n",
       " 'wouldn',\n",
       " \"wouldn't\"]"
      ]
     },
     "execution_count": 49,
     "metadata": {},
     "output_type": "execute_result"
    }
   ],
   "source": [
    "stopwords.words('english')"
   ]
  },
  {
   "cell_type": "code",
   "execution_count": 50,
   "id": "0443b84b",
   "metadata": {},
   "outputs": [],
   "source": [
    "for i in range(len(sentences)):\n",
    "    words = nltk.word_tokenize(sentences[i])\n",
    "    new_words = [word for word in words if word not in stopwords.words('english')]\n",
    "    sentences[i] = ' '.join(new_words)"
   ]
  },
  {
   "cell_type": "code",
   "execution_count": 51,
   "id": "574c6335",
   "metadata": {},
   "outputs": [
    {
     "data": {
      "text/plain": [
       "['Thank much .',\n",
       " 'Thank Academy .',\n",
       " 'Thank room .',\n",
       " 'I congratulate incredible nominees year .',\n",
       " 'The Revenant product tireless efforts unbelievable cast crew .',\n",
       " 'First , brother endeavor , Mr. Tom Hardy .',\n",
       " 'Tom , talent screen surpassed friendship screen … thank creating transcendent cinematic experience .',\n",
       " 'Thank everybody Fox New Regency … entire team .',\n",
       " 'I thank everyone onset career … To parents ; none would possible without .',\n",
       " 'And friends , I love dearly ; know .']"
      ]
     },
     "execution_count": 51,
     "metadata": {},
     "output_type": "execute_result"
    }
   ],
   "source": [
    "sentences"
   ]
  },
  {
   "cell_type": "code",
   "execution_count": 52,
   "id": "3044df4e",
   "metadata": {},
   "outputs": [],
   "source": [
    "# speech tag"
   ]
  },
  {
   "cell_type": "code",
   "execution_count": 53,
   "id": "a54e5aea",
   "metadata": {},
   "outputs": [],
   "source": [
    "words = nltk.word_tokenize(paragraph)"
   ]
  },
  {
   "cell_type": "code",
   "execution_count": 54,
   "id": "605a66b1",
   "metadata": {},
   "outputs": [
    {
     "data": {
      "text/plain": [
       "['Thank',\n",
       " 'you',\n",
       " 'all',\n",
       " 'so',\n",
       " 'very',\n",
       " 'much',\n",
       " '.',\n",
       " 'Thank',\n",
       " 'you',\n",
       " 'to',\n",
       " 'the',\n",
       " 'Academy',\n",
       " '.',\n",
       " 'Thank',\n",
       " 'you',\n",
       " 'to',\n",
       " 'all',\n",
       " 'of',\n",
       " 'you',\n",
       " 'in',\n",
       " 'this',\n",
       " 'room',\n",
       " '.',\n",
       " 'I',\n",
       " 'have',\n",
       " 'to',\n",
       " 'congratulate',\n",
       " 'the',\n",
       " 'other',\n",
       " 'incredible',\n",
       " 'nominees',\n",
       " 'this',\n",
       " 'year',\n",
       " '.',\n",
       " 'The',\n",
       " 'Revenant',\n",
       " 'was',\n",
       " 'the',\n",
       " 'product',\n",
       " 'of',\n",
       " 'the',\n",
       " 'tireless',\n",
       " 'efforts',\n",
       " 'of',\n",
       " 'an',\n",
       " 'unbelievable',\n",
       " 'cast',\n",
       " 'and',\n",
       " 'crew',\n",
       " '.',\n",
       " 'First',\n",
       " 'off',\n",
       " ',',\n",
       " 'to',\n",
       " 'my',\n",
       " 'brother',\n",
       " 'in',\n",
       " 'this',\n",
       " 'endeavor',\n",
       " ',',\n",
       " 'Mr.',\n",
       " 'Tom',\n",
       " 'Hardy',\n",
       " '.',\n",
       " 'Tom',\n",
       " ',',\n",
       " 'your',\n",
       " 'talent',\n",
       " 'on',\n",
       " 'screen',\n",
       " 'can',\n",
       " 'only',\n",
       " 'be',\n",
       " 'surpassed',\n",
       " 'by',\n",
       " 'your',\n",
       " 'friendship',\n",
       " 'off',\n",
       " 'screen',\n",
       " '…',\n",
       " 'thank',\n",
       " 'you',\n",
       " 'for',\n",
       " 'creating',\n",
       " 'a',\n",
       " 'transcendent',\n",
       " 'cinematic',\n",
       " 'experience',\n",
       " '.',\n",
       " 'Thank',\n",
       " 'you',\n",
       " 'to',\n",
       " 'everybody',\n",
       " 'at',\n",
       " 'Fox',\n",
       " 'and',\n",
       " 'New',\n",
       " 'Regency',\n",
       " '…',\n",
       " 'my',\n",
       " 'entire',\n",
       " 'team',\n",
       " '.',\n",
       " 'I',\n",
       " 'have',\n",
       " 'to',\n",
       " 'thank',\n",
       " 'everyone',\n",
       " 'from',\n",
       " 'the',\n",
       " 'very',\n",
       " 'onset',\n",
       " 'of',\n",
       " 'my',\n",
       " 'career',\n",
       " '…',\n",
       " 'To',\n",
       " 'my',\n",
       " 'parents',\n",
       " ';',\n",
       " 'none',\n",
       " 'of',\n",
       " 'this',\n",
       " 'would',\n",
       " 'be',\n",
       " 'possible',\n",
       " 'without',\n",
       " 'you',\n",
       " '.',\n",
       " 'And',\n",
       " 'to',\n",
       " 'my',\n",
       " 'friends',\n",
       " ',',\n",
       " 'I',\n",
       " 'love',\n",
       " 'you',\n",
       " 'dearly',\n",
       " ';',\n",
       " 'you',\n",
       " 'know',\n",
       " 'who',\n",
       " 'you',\n",
       " 'are',\n",
       " '.']"
      ]
     },
     "execution_count": 54,
     "metadata": {},
     "output_type": "execute_result"
    }
   ],
   "source": [
    "words"
   ]
  },
  {
   "cell_type": "code",
   "execution_count": 55,
   "id": "51aba655",
   "metadata": {},
   "outputs": [],
   "source": [
    "tagged_word = nltk.pos_tag(words)"
   ]
  },
  {
   "cell_type": "code",
   "execution_count": 56,
   "id": "45d1571e",
   "metadata": {},
   "outputs": [
    {
     "data": {
      "text/plain": [
       "[('Thank', 'NNP'),\n",
       " ('you', 'PRP'),\n",
       " ('all', 'DT'),\n",
       " ('so', 'RB'),\n",
       " ('very', 'RB'),\n",
       " ('much', 'JJ'),\n",
       " ('.', '.'),\n",
       " ('Thank', 'VB'),\n",
       " ('you', 'PRP'),\n",
       " ('to', 'TO'),\n",
       " ('the', 'DT'),\n",
       " ('Academy', 'NNP'),\n",
       " ('.', '.'),\n",
       " ('Thank', 'NNP'),\n",
       " ('you', 'PRP'),\n",
       " ('to', 'TO'),\n",
       " ('all', 'DT'),\n",
       " ('of', 'IN'),\n",
       " ('you', 'PRP'),\n",
       " ('in', 'IN'),\n",
       " ('this', 'DT'),\n",
       " ('room', 'NN'),\n",
       " ('.', '.'),\n",
       " ('I', 'PRP'),\n",
       " ('have', 'VBP'),\n",
       " ('to', 'TO'),\n",
       " ('congratulate', 'VB'),\n",
       " ('the', 'DT'),\n",
       " ('other', 'JJ'),\n",
       " ('incredible', 'JJ'),\n",
       " ('nominees', 'NNS'),\n",
       " ('this', 'DT'),\n",
       " ('year', 'NN'),\n",
       " ('.', '.'),\n",
       " ('The', 'DT'),\n",
       " ('Revenant', 'NNP'),\n",
       " ('was', 'VBD'),\n",
       " ('the', 'DT'),\n",
       " ('product', 'NN'),\n",
       " ('of', 'IN'),\n",
       " ('the', 'DT'),\n",
       " ('tireless', 'NN'),\n",
       " ('efforts', 'NNS'),\n",
       " ('of', 'IN'),\n",
       " ('an', 'DT'),\n",
       " ('unbelievable', 'JJ'),\n",
       " ('cast', 'NN'),\n",
       " ('and', 'CC'),\n",
       " ('crew', 'NN'),\n",
       " ('.', '.'),\n",
       " ('First', 'NNP'),\n",
       " ('off', 'RB'),\n",
       " (',', ','),\n",
       " ('to', 'TO'),\n",
       " ('my', 'PRP$'),\n",
       " ('brother', 'NN'),\n",
       " ('in', 'IN'),\n",
       " ('this', 'DT'),\n",
       " ('endeavor', 'NN'),\n",
       " (',', ','),\n",
       " ('Mr.', 'NNP'),\n",
       " ('Tom', 'NNP'),\n",
       " ('Hardy', 'NNP'),\n",
       " ('.', '.'),\n",
       " ('Tom', 'NNP'),\n",
       " (',', ','),\n",
       " ('your', 'PRP$'),\n",
       " ('talent', 'NN'),\n",
       " ('on', 'IN'),\n",
       " ('screen', 'NN'),\n",
       " ('can', 'MD'),\n",
       " ('only', 'RB'),\n",
       " ('be', 'VB'),\n",
       " ('surpassed', 'VBN'),\n",
       " ('by', 'IN'),\n",
       " ('your', 'PRP$'),\n",
       " ('friendship', 'NN'),\n",
       " ('off', 'IN'),\n",
       " ('screen', 'JJ'),\n",
       " ('…', 'NNP'),\n",
       " ('thank', 'NN'),\n",
       " ('you', 'PRP'),\n",
       " ('for', 'IN'),\n",
       " ('creating', 'VBG'),\n",
       " ('a', 'DT'),\n",
       " ('transcendent', 'JJ'),\n",
       " ('cinematic', 'JJ'),\n",
       " ('experience', 'NN'),\n",
       " ('.', '.'),\n",
       " ('Thank', 'NNP'),\n",
       " ('you', 'PRP'),\n",
       " ('to', 'TO'),\n",
       " ('everybody', 'VB'),\n",
       " ('at', 'IN'),\n",
       " ('Fox', 'NNP'),\n",
       " ('and', 'CC'),\n",
       " ('New', 'NNP'),\n",
       " ('Regency', 'NNP'),\n",
       " ('…', 'NNP'),\n",
       " ('my', 'PRP$'),\n",
       " ('entire', 'JJ'),\n",
       " ('team', 'NN'),\n",
       " ('.', '.'),\n",
       " ('I', 'PRP'),\n",
       " ('have', 'VBP'),\n",
       " ('to', 'TO'),\n",
       " ('thank', 'VB'),\n",
       " ('everyone', 'NN'),\n",
       " ('from', 'IN'),\n",
       " ('the', 'DT'),\n",
       " ('very', 'RB'),\n",
       " ('onset', 'NN'),\n",
       " ('of', 'IN'),\n",
       " ('my', 'PRP$'),\n",
       " ('career', 'NN'),\n",
       " ('…', 'NN'),\n",
       " ('To', 'TO'),\n",
       " ('my', 'PRP$'),\n",
       " ('parents', 'NNS'),\n",
       " (';', ':'),\n",
       " ('none', 'NN'),\n",
       " ('of', 'IN'),\n",
       " ('this', 'DT'),\n",
       " ('would', 'MD'),\n",
       " ('be', 'VB'),\n",
       " ('possible', 'JJ'),\n",
       " ('without', 'IN'),\n",
       " ('you', 'PRP'),\n",
       " ('.', '.'),\n",
       " ('And', 'CC'),\n",
       " ('to', 'TO'),\n",
       " ('my', 'PRP$'),\n",
       " ('friends', 'NNS'),\n",
       " (',', ','),\n",
       " ('I', 'PRP'),\n",
       " ('love', 'VBP'),\n",
       " ('you', 'PRP'),\n",
       " ('dearly', 'RB'),\n",
       " (';', ':'),\n",
       " ('you', 'PRP'),\n",
       " ('know', 'VBP'),\n",
       " ('who', 'WP'),\n",
       " ('you', 'PRP'),\n",
       " ('are', 'VBP'),\n",
       " ('.', '.')]"
      ]
     },
     "execution_count": 56,
     "metadata": {},
     "output_type": "execute_result"
    }
   ],
   "source": [
    "tagged_word"
   ]
  },
  {
   "cell_type": "code",
   "execution_count": 57,
   "id": "cadbb030",
   "metadata": {},
   "outputs": [],
   "source": [
    "#named entity"
   ]
  },
  {
   "cell_type": "code",
   "execution_count": 58,
   "id": "6ed2aeb7",
   "metadata": {},
   "outputs": [],
   "source": [
    "sentence = \"The Taj Mahal was built by Emperor Shahjahan in 1990 at Agra, India\""
   ]
  },
  {
   "cell_type": "code",
   "execution_count": 59,
   "id": "f083e080",
   "metadata": {},
   "outputs": [],
   "source": [
    "words = nltk.word_tokenize(sentence)"
   ]
  },
  {
   "cell_type": "code",
   "execution_count": 60,
   "id": "6c977d4f",
   "metadata": {},
   "outputs": [
    {
     "data": {
      "text/plain": [
       "['The',\n",
       " 'Taj',\n",
       " 'Mahal',\n",
       " 'was',\n",
       " 'built',\n",
       " 'by',\n",
       " 'Emperor',\n",
       " 'Shahjahan',\n",
       " 'in',\n",
       " '1990',\n",
       " 'at',\n",
       " 'Agra',\n",
       " ',',\n",
       " 'India']"
      ]
     },
     "execution_count": 60,
     "metadata": {},
     "output_type": "execute_result"
    }
   ],
   "source": [
    "words"
   ]
  },
  {
   "cell_type": "code",
   "execution_count": 61,
   "id": "055b4966",
   "metadata": {},
   "outputs": [],
   "source": [
    "tagged_word = nltk.pos_tag(words)"
   ]
  },
  {
   "cell_type": "code",
   "execution_count": 62,
   "id": "213adfa3",
   "metadata": {},
   "outputs": [
    {
     "data": {
      "text/plain": [
       "[('The', 'DT'),\n",
       " ('Taj', 'NNP'),\n",
       " ('Mahal', 'NNP'),\n",
       " ('was', 'VBD'),\n",
       " ('built', 'VBN'),\n",
       " ('by', 'IN'),\n",
       " ('Emperor', 'NNP'),\n",
       " ('Shahjahan', 'NNP'),\n",
       " ('in', 'IN'),\n",
       " ('1990', 'CD'),\n",
       " ('at', 'IN'),\n",
       " ('Agra', 'NNP'),\n",
       " (',', ','),\n",
       " ('India', 'NNP')]"
      ]
     },
     "execution_count": 62,
     "metadata": {},
     "output_type": "execute_result"
    }
   ],
   "source": [
    "tagged_word"
   ]
  },
  {
   "cell_type": "code",
   "execution_count": 63,
   "id": "91210f2c",
   "metadata": {},
   "outputs": [],
   "source": [
    "namedEnt = nltk.ne_chunk(tagged_word)"
   ]
  },
  {
   "cell_type": "code",
   "execution_count": 64,
   "id": "bc50640c",
   "metadata": {},
   "outputs": [],
   "source": [
    "namedEnt.draw()"
   ]
  },
  {
   "cell_type": "code",
   "execution_count": null,
   "id": "a5c206a8",
   "metadata": {},
   "outputs": [],
   "source": []
  }
 ],
 "metadata": {
  "kernelspec": {
   "display_name": "Python 3",
   "language": "python",
   "name": "python3"
  },
  "language_info": {
   "codemirror_mode": {
    "name": "ipython",
    "version": 3
   },
   "file_extension": ".py",
   "mimetype": "text/x-python",
   "name": "python",
   "nbconvert_exporter": "python",
   "pygments_lexer": "ipython3",
   "version": "3.6.13"
  }
 },
 "nbformat": 4,
 "nbformat_minor": 5
}
