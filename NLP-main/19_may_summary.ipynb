{
 "cells": [
  {
   "cell_type": "code",
   "execution_count": null,
   "id": "a5bed520",
   "metadata": {},
   "outputs": [],
   "source": [
    "!pip install beautifulsoup4\n",
    "!pip install lxml"
   ]
  },
  {
   "cell_type": "code",
   "execution_count": null,
   "id": "0a898ea1",
   "metadata": {},
   "outputs": [],
   "source": [
    "import bs4 as bs\n",
    "import urllib.request"
   ]
  },
  {
   "cell_type": "code",
   "execution_count": null,
   "id": "b6c7e56a",
   "metadata": {},
   "outputs": [],
   "source": [
    "source = urllib.request.urlopen('https://simple.wikipedia.org/wiki/Global_warming').read()"
   ]
  },
  {
   "cell_type": "code",
   "execution_count": null,
   "id": "694dfbdd",
   "metadata": {},
   "outputs": [],
   "source": [
    "source"
   ]
  },
  {
   "cell_type": "code",
   "execution_count": null,
   "id": "c7da378d",
   "metadata": {},
   "outputs": [],
   "source": [
    "soup = bs.BeautifulSoup(source,'lxml')"
   ]
  },
  {
   "cell_type": "code",
   "execution_count": null,
   "id": "954393cc",
   "metadata": {},
   "outputs": [],
   "source": [
    "soup"
   ]
  },
  {
   "cell_type": "code",
   "execution_count": null,
   "id": "68c345d9",
   "metadata": {},
   "outputs": [],
   "source": [
    "text = \"\"\n",
    "for paragraph in soup.find_all('p'):\n",
    "    text += paragraph.text"
   ]
  },
  {
   "cell_type": "code",
   "execution_count": null,
   "id": "0ef1596c",
   "metadata": {},
   "outputs": [],
   "source": [
    "text"
   ]
  },
  {
   "cell_type": "code",
   "execution_count": null,
   "id": "5a2b1a8c",
   "metadata": {},
   "outputs": [],
   "source": [
    "import re\n",
    "text = re.sub(r'\\[[0-9]*\\]', ' ',text)\n",
    "text = re.sub(r'\\s+',' ',text)\n",
    "clean_text = text.lower()\n",
    "clean_text = re.sub(r'\\W',' ',clean_text)\n",
    "clean_text = re.sub(r'\\d',' ',clean_text)\n",
    "clean_text = re.sub(r'\\s+[a-z]\\s+',' ',clean_text)\n",
    "clean_text = re.sub(r'\\s+',' ',clean_text)"
   ]
  },
  {
   "cell_type": "code",
   "execution_count": null,
   "id": "2bebde9d",
   "metadata": {},
   "outputs": [],
   "source": [
    "text"
   ]
  },
  {
   "cell_type": "code",
   "execution_count": null,
   "id": "89bd1e14",
   "metadata": {},
   "outputs": [],
   "source": [
    "clean_text"
   ]
  },
  {
   "cell_type": "code",
   "execution_count": null,
   "id": "aa0afe98",
   "metadata": {},
   "outputs": [],
   "source": [
    "import nltk"
   ]
  },
  {
   "cell_type": "code",
   "execution_count": null,
   "id": "0ffbfb57",
   "metadata": {},
   "outputs": [],
   "source": [
    "sentences = nltk.sent_tokenize(text)"
   ]
  },
  {
   "cell_type": "code",
   "execution_count": null,
   "id": "edb042ee",
   "metadata": {},
   "outputs": [],
   "source": [
    "sentences"
   ]
  },
  {
   "cell_type": "code",
   "execution_count": null,
   "id": "7a338e43",
   "metadata": {},
   "outputs": [],
   "source": [
    "len(sentences)"
   ]
  },
  {
   "cell_type": "code",
   "execution_count": null,
   "id": "751c6b31",
   "metadata": {},
   "outputs": [],
   "source": [
    "stop_words = nltk.corpus.stopwords.words('english')"
   ]
  },
  {
   "cell_type": "code",
   "execution_count": null,
   "id": "473650e3",
   "metadata": {},
   "outputs": [],
   "source": [
    "stop_words"
   ]
  },
  {
   "cell_type": "code",
   "execution_count": null,
   "id": "98b52c52",
   "metadata": {},
   "outputs": [],
   "source": [
    "word2count = {}\n",
    "for word in nltk.word_tokenize(clean_text):\n",
    "    if word not in stop_words:\n",
    "        if word not in word2count.keys():\n",
    "            word2count[word] = 1\n",
    "        else:\n",
    "            word2count[word] += 1"
   ]
  },
  {
   "cell_type": "code",
   "execution_count": null,
   "id": "d384a5b3",
   "metadata": {},
   "outputs": [],
   "source": [
    "word2count"
   ]
  },
  {
   "cell_type": "code",
   "execution_count": null,
   "id": "75bda86e",
   "metadata": {},
   "outputs": [],
   "source": [
    "for key in word2count.keys():\n",
    "    word2count[key] = word2count[key]/(max(word2count.values()))"
   ]
  },
  {
   "cell_type": "code",
   "execution_count": null,
   "id": "45a4f53a",
   "metadata": {},
   "outputs": [],
   "source": [
    "word2count"
   ]
  },
  {
   "cell_type": "code",
   "execution_count": null,
   "id": "519996df",
   "metadata": {},
   "outputs": [],
   "source": [
    "sent2score = {}\n",
    "for sentence in sentences:\n",
    "    for word in nltk.word_tokenize(sentence.lower()):\n",
    "        if word in word2count.keys():\n",
    "            if len(sentence.split(' '))<25:\n",
    "                if sentence not in sent2score.keys():\n",
    "                    sent2score[sentence] = word2count[word]\n",
    "                else:\n",
    "                    sent2score[sentence] += word2count[word]"
   ]
  },
  {
   "cell_type": "code",
   "execution_count": null,
   "id": "aaf0b3a9",
   "metadata": {},
   "outputs": [],
   "source": [
    "sent2score"
   ]
  },
  {
   "cell_type": "code",
   "execution_count": null,
   "id": "1798c137",
   "metadata": {},
   "outputs": [],
   "source": [
    "import heapq"
   ]
  },
  {
   "cell_type": "code",
   "execution_count": null,
   "id": "45f473c7",
   "metadata": {},
   "outputs": [],
   "source": [
    "best_sentences = heapq.nlargest(10,sent2score,key=sent2score.get)"
   ]
  },
  {
   "cell_type": "code",
   "execution_count": null,
   "id": "b8a7fd9e",
   "metadata": {},
   "outputs": [],
   "source": [
    "best_sentences"
   ]
  },
  {
   "cell_type": "code",
   "execution_count": null,
   "id": "ceca0c03",
   "metadata": {},
   "outputs": [],
   "source": [
    "best_sentences = ' '.join(best_sentences)"
   ]
  },
  {
   "cell_type": "code",
   "execution_count": null,
   "id": "1ea7c29f",
   "metadata": {},
   "outputs": [],
   "source": [
    "best_sentences"
   ]
  },
  {
   "cell_type": "code",
   "execution_count": null,
   "id": "6f093366",
   "metadata": {},
   "outputs": [],
   "source": []
  }
 ],
 "metadata": {
  "kernelspec": {
   "display_name": "Python 3",
   "language": "python",
   "name": "python3"
  },
  "language_info": {
   "codemirror_mode": {
    "name": "ipython",
    "version": 3
   },
   "file_extension": ".py",
   "mimetype": "text/x-python",
   "name": "python",
   "nbconvert_exporter": "python",
   "pygments_lexer": "ipython3",
   "version": "3.6.13"
  }
 },
 "nbformat": 4,
 "nbformat_minor": 5
}
